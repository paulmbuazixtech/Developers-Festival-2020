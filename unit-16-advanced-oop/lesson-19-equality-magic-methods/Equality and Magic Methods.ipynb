{
 "cells": [
  {
   "cell_type": "markdown",
   "metadata": {},
   "source": [
    "# Equality and Magic Methods\n",
    "\n",
    "Turns out that the concept of \"equality\" is pretty deep. What means that two things are \"equal\"? For example, two \\$1 bills have the same \"value\", and we might very well take out our wallets and exchange \\$1 bill. \"They're the same\". But are they **truly** the same object? The universe plays a huge role here, as not two single objects are \"entirely\" the same: even if they look _extremely_ alike, the atomic configuration of both of them is probably different.\n",
    "\n",
    "The same concepts apply for our objects. Let's go back to our example of `Weight`:"
   ]
  },
  {
   "cell_type": "code",
   "execution_count": 1,
   "metadata": {},
   "outputs": [],
   "source": [
    "class Weight(object):\n",
    "    def __init__(self, weight, unit='kg'):\n",
    "        self.weight = weight\n",
    "        self.unit = unit"
   ]
  },
  {
   "cell_type": "code",
   "execution_count": 2,
   "metadata": {},
   "outputs": [],
   "source": [
    "w1 = Weight(20, unit='kg')\n",
    "w2 = Weight(44, unit='lb')"
   ]
  },
  {
   "cell_type": "markdown",
   "metadata": {},
   "source": [
    "If we don't care much about decimals, we can say that 20Kg are the same as 44 pounds. Again, sometimes you can say they're the same, sometimes you can't, but let's assume you can.\n",
    "\n",
    "So, for us, 20Kg == as 44Lb. But what does Python say?"
   ]
  },
  {
   "cell_type": "code",
   "execution_count": 3,
   "metadata": {},
   "outputs": [
    {
     "data": {
      "text/plain": [
       "False"
      ]
     },
     "execution_count": 3,
     "metadata": {},
     "output_type": "execute_result"
    }
   ],
   "source": [
    "w1 == w2"
   ]
  },
  {
   "cell_type": "markdown",
   "metadata": {},
   "source": [
    "Python doesn't know about the \"conceptual\" similarities about the two objects. Python doesn't know about weights! So it just makes its best effort and checks if the objects are **literally** the same."
   ]
  },
  {
   "cell_type": "code",
   "execution_count": 4,
   "metadata": {},
   "outputs": [
    {
     "data": {
      "text/plain": [
       "True"
      ]
     },
     "execution_count": 4,
     "metadata": {},
     "output_type": "execute_result"
    }
   ],
   "source": [
    "w1 == w1"
   ]
  },
  {
   "cell_type": "code",
   "execution_count": 5,
   "metadata": {},
   "outputs": [
    {
     "data": {
      "text/plain": [
       "True"
      ]
     },
     "execution_count": 5,
     "metadata": {},
     "output_type": "execute_result"
    }
   ],
   "source": [
    "w2 == w2"
   ]
  },
  {
   "cell_type": "markdown",
   "metadata": {},
   "source": [
    "There's a simple way to add that \"high level/conceptual\" equality notion to our objects with the `__eq__` magic method:"
   ]
  },
  {
   "cell_type": "code",
   "execution_count": 6,
   "metadata": {},
   "outputs": [],
   "source": [
    "class Weight(object):\n",
    "    UNIT_CONVERSION = {\n",
    "        'kg': {\n",
    "            'kg': 1,\n",
    "            'lb': 2.2\n",
    "        },\n",
    "        'lb': {\n",
    "            'kg': 0.45,\n",
    "            'lb': 1\n",
    "        }\n",
    "    }\n",
    "    def __init__(self, weight, unit='kg'):\n",
    "        self.weight = weight\n",
    "        self.unit = unit\n",
    "    \n",
    "    def to_unit(self, unit):\n",
    "        return round(self.weight * self.UNIT_CONVERSION[self.unit][unit])\n",
    "\n",
    "    def __eq__(self, other):\n",
    "        return self.to_unit('kg') == other.to_unit('kg')"
   ]
  },
  {
   "cell_type": "code",
   "execution_count": 7,
   "metadata": {},
   "outputs": [],
   "source": [
    "w1 = Weight(20, unit='kg')\n",
    "w2 = Weight(44, unit='lb')"
   ]
  },
  {
   "cell_type": "code",
   "execution_count": 8,
   "metadata": {},
   "outputs": [
    {
     "data": {
      "text/plain": [
       "20"
      ]
     },
     "execution_count": 8,
     "metadata": {},
     "output_type": "execute_result"
    }
   ],
   "source": [
    "w1.to_unit('kg')"
   ]
  },
  {
   "cell_type": "code",
   "execution_count": 9,
   "metadata": {},
   "outputs": [
    {
     "data": {
      "text/plain": [
       "20"
      ]
     },
     "execution_count": 9,
     "metadata": {},
     "output_type": "execute_result"
    }
   ],
   "source": [
    "w2.to_unit('kg')"
   ]
  },
  {
   "cell_type": "code",
   "execution_count": 10,
   "metadata": {
    "scrolled": true
   },
   "outputs": [
    {
     "data": {
      "text/plain": [
       "True"
      ]
     },
     "execution_count": 10,
     "metadata": {},
     "output_type": "execute_result"
    }
   ],
   "source": [
    "w1 == w2"
   ]
  },
  {
   "cell_type": "markdown",
   "metadata": {},
   "source": [
    "### More Comparison\n",
    "\n",
    "There are a few other operators used for comparison, and each one of them have a corresponding _Magic Method_:\n",
    "\n",
    "* `!=`: Not Equals (`__ne__`)\n",
    "* `> `: Greater Than (`__gt__`)\n",
    "* `>=`: Greater than or equal to (`__ge__`)\n",
    "* `< `: Less Than (`__lt__`)\n",
    "* `<=`: Less than or equal to (`__le__`)\n",
    "\n",
    "With that, our complete `Weight` class and a few examples:"
   ]
  },
  {
   "cell_type": "code",
   "execution_count": 11,
   "metadata": {},
   "outputs": [],
   "source": [
    "class Weight(object):\n",
    "    UNIT_CONVERSION = {\n",
    "        'kg': {\n",
    "            'kg': 1,\n",
    "            'lb': 2.2\n",
    "        },\n",
    "        'lb': {\n",
    "            'kg': 0.45,\n",
    "            'lb': 1\n",
    "        }\n",
    "    }\n",
    "    def __init__(self, weight, unit='kg'):\n",
    "        self.weight = weight\n",
    "        self.unit = unit\n",
    "    \n",
    "    def to_unit(self, unit):\n",
    "        return round(self.weight * self.UNIT_CONVERSION[self.unit][unit])\n",
    "\n",
    "    def __eq__(self, other):\n",
    "        return self.to_unit('kg') == other.to_unit('kg')\n",
    "    \n",
    "    def __ne__(self, other):\n",
    "        return not self == other\n",
    "    \n",
    "    def __lt__(self, other):\n",
    "        return self.to_unit('kg') < other.to_unit('kg')\n",
    "    \n",
    "    def __gt__(self, other):\n",
    "        return other < self\n",
    "    \n",
    "    def __le__(self, other):\n",
    "        return self < other or self == other\n",
    "\n",
    "    def __ge__(self, other):\n",
    "        return self > other or self == other"
   ]
  },
  {
   "cell_type": "code",
   "execution_count": 12,
   "metadata": {},
   "outputs": [],
   "source": [
    "w1 = Weight(20, unit='kg')\n",
    "w2 = Weight(44, unit='lb')\n",
    "w3 = Weight(10, unit='kg')"
   ]
  },
  {
   "cell_type": "markdown",
   "metadata": {},
   "source": [
    "Several tests to make sure everything works:"
   ]
  },
  {
   "cell_type": "code",
   "execution_count": 13,
   "metadata": {},
   "outputs": [],
   "source": [
    "assert w1 == w2\n",
    "\n",
    "assert w1 > w3\n",
    "assert w1 >= w3\n",
    "assert w1 >= w2\n",
    "\n",
    "assert w3 < w1\n",
    "assert w3 <= w1\n",
    "assert w2 <= w2"
   ]
  },
  {
   "cell_type": "markdown",
   "metadata": {},
   "source": [
    "(If nothing broke, it's working 😉). And a few tests with output:"
   ]
  },
  {
   "cell_type": "code",
   "execution_count": 26,
   "metadata": {},
   "outputs": [
    {
     "data": {
      "text/plain": [
       "True"
      ]
     },
     "execution_count": 26,
     "metadata": {},
     "output_type": "execute_result"
    }
   ],
   "source": [
    "w1 > w3"
   ]
  },
  {
   "cell_type": "code",
   "execution_count": 27,
   "metadata": {},
   "outputs": [
    {
     "data": {
      "text/plain": [
       "True"
      ]
     },
     "execution_count": 27,
     "metadata": {},
     "output_type": "execute_result"
    }
   ],
   "source": [
    "w3 < w1"
   ]
  },
  {
   "cell_type": "code",
   "execution_count": 28,
   "metadata": {},
   "outputs": [
    {
     "data": {
      "text/plain": [
       "True"
      ]
     },
     "execution_count": 28,
     "metadata": {},
     "output_type": "execute_result"
    }
   ],
   "source": [
    "w1 >= w2"
   ]
  },
  {
   "cell_type": "code",
   "execution_count": 29,
   "metadata": {},
   "outputs": [
    {
     "data": {
      "text/plain": [
       "True"
      ]
     },
     "execution_count": 29,
     "metadata": {},
     "output_type": "execute_result"
    }
   ],
   "source": [
    "w1 >= w3"
   ]
  }
 ],
 "metadata": {
  "kernelspec": {
   "display_name": "Python 3",
   "language": "python",
   "name": "python3"
  },
  "language_info": {
   "codemirror_mode": {
    "name": "ipython",
    "version": 3
   },
   "file_extension": ".py",
   "mimetype": "text/x-python",
   "name": "python",
   "nbconvert_exporter": "python",
   "pygments_lexer": "ipython3",
   "version": "3.6.0"
  }
 },
 "nbformat": 4,
 "nbformat_minor": 2
}
