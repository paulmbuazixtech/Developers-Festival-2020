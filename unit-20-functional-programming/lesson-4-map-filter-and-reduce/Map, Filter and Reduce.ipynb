{
 "cells": [
  {
   "cell_type": "markdown",
   "metadata": {},
   "source": [
    "# Map, Filter and Reduce\n",
    "\n",
    "These are three most important constructs employed in Functional Programming. They all receive two arguments as input:\n",
    "* A collection\n",
    "* A function\n",
    "\n",
    "and combining them create the final result. Let's explore them in detail.\n",
    "\n",
    "### Map\n",
    "\n",
    "[Map](https://en.wikipedia.org/wiki/Map_%28higher-order_function%29) takes a collection as input and a function and returns a new collection with the result of applying the passed function to each element, in order. Mouthful. Let's work the intuition first.\n",
    "\n",
    "Map will take a collection, for example, a list of names:\n",
    "\n",
    "```python\n",
    "l = ['Jane', 'Tom', 'Robert']\n",
    "```\n",
    "\n",
    "And an operation (a function) to apply on each element, for example: _\"Get the length in characters of each name\"_ and it'll output the following result:\n",
    "\n",
    "```python\n",
    "result = [4, 3, 6]\n",
    "```\n",
    "\n",
    "The result is `[4, 3, 6]` because we applied the function \"Extract the length in characters\" to each name, `'Jane'` has `4`, `'Tom'` has `3` and `'Robert'` has `6`.\n",
    "\n",
    "![map](https://user-images.githubusercontent.com/872296/37495831-05a1a77a-288e-11e8-82d5-4110bd8edf84.png)\n",
    "\n",
    "\n",
    "Let's code the function, because it's super simple:"
   ]
  },
  {
   "cell_type": "code",
   "execution_count": 1,
   "metadata": {},
   "outputs": [],
   "source": [
    "def get_length_of_name(a_name):\n",
    "    return len(a_name)"
   ]
  },
  {
   "cell_type": "code",
   "execution_count": 2,
   "metadata": {},
   "outputs": [
    {
     "data": {
      "text/plain": [
       "4"
      ]
     },
     "execution_count": 2,
     "metadata": {},
     "output_type": "execute_result"
    }
   ],
   "source": [
    "get_length_of_name('Jane')"
   ]
  },
  {
   "cell_type": "code",
   "execution_count": 3,
   "metadata": {},
   "outputs": [
    {
     "data": {
      "text/plain": [
       "6"
      ]
     },
     "execution_count": 3,
     "metadata": {},
     "output_type": "execute_result"
    }
   ],
   "source": [
    "get_length_of_name('Robert')"
   ]
  },
  {
   "cell_type": "markdown",
   "metadata": {},
   "source": [
    "Map then applied, **in order**, the function `get_length_of_name` to each name in the original list and created a new one containing each result:\n",
    "\n",
    "```\n",
    "'Jane'   => get_length_of_name => 4\n",
    "'Tom'    => get_length_of_name => 3\n",
    "'Robert' => get_length_of_name => 6\n",
    "```\n",
    "\n",
    "These are the working pieces of Map. Let's see it in action:"
   ]
  },
  {
   "cell_type": "code",
   "execution_count": 4,
   "metadata": {},
   "outputs": [],
   "source": [
    "list_of_names = ['Jane', 'Tom', 'Robert']"
   ]
  },
  {
   "cell_type": "code",
   "execution_count": 5,
   "metadata": {},
   "outputs": [],
   "source": [
    "result = map(get_length_of_name, list_of_names)"
   ]
  },
  {
   "cell_type": "code",
   "execution_count": 6,
   "metadata": {},
   "outputs": [
    {
     "data": {
      "text/plain": [
       "[4, 3, 6]"
      ]
     },
     "execution_count": 6,
     "metadata": {},
     "output_type": "execute_result"
    }
   ],
   "source": [
    "list(result)"
   ]
  },
  {
   "cell_type": "markdown",
   "metadata": {},
   "source": [
    "We need to coerce result into a list because in Python 3, these functions will all return \"_Iterators_\", which is a more advanced concept. Don't worry about it for now.\n",
    "\n",
    "As you can see, the notation of [`map`](https://docs.python.org/3/library/functions.html#map) is simple, it takes the function to apply to each element, and the collection of elements to apply that function to.\n",
    "\n",
    "But what's the big deal about it? Well, because it's a clean and, more importantly, **immutable** solution. How would you have solved it without map? With a for loop probably:"
   ]
  },
  {
   "cell_type": "code",
   "execution_count": 7,
   "metadata": {},
   "outputs": [
    {
     "name": "stdout",
     "output_type": "stream",
     "text": [
      "[4, 3, 6]\n"
     ]
    }
   ],
   "source": [
    "result = []\n",
    "for elem in list_of_names:\n",
    "    result.append(get_length_of_name(elem))\n",
    "print(result)"
   ]
  },
  {
   "cell_type": "markdown",
   "metadata": {},
   "source": [
    "The map version saved us a few lines of code, was a lot more expressive and, specially, **immutable** (in our for-loop solution, the variable `result` is modified several times). Looking at the for-loop version, you surely note that we don't need the `get_length_of_name` function. After all, it's just applying the `len` builtin function. We could rewrite it in this way:"
   ]
  },
  {
   "cell_type": "code",
   "execution_count": 8,
   "metadata": {},
   "outputs": [
    {
     "name": "stdout",
     "output_type": "stream",
     "text": [
      "[4, 3, 6]\n"
     ]
    }
   ],
   "source": [
    "result = []\n",
    "for elem in list_of_names:\n",
    "    result.append(len(elem))  # len instead of get_length_of_name\n",
    "print(result)"
   ]
  },
  {
   "cell_type": "markdown",
   "metadata": {},
   "source": [
    "Which means that we can also do that with our `map` example:"
   ]
  },
  {
   "cell_type": "code",
   "execution_count": 9,
   "metadata": {},
   "outputs": [],
   "source": [
    "result = map(len, list_of_names)"
   ]
  },
  {
   "cell_type": "code",
   "execution_count": 10,
   "metadata": {},
   "outputs": [
    {
     "data": {
      "text/plain": [
       "[4, 3, 6]"
      ]
     },
     "execution_count": 10,
     "metadata": {},
     "output_type": "execute_result"
    }
   ],
   "source": [
    "list(result)"
   ]
  },
  {
   "cell_type": "markdown",
   "metadata": {},
   "source": [
    "(Same result)\n",
    "\n",
    "The function applied to `map` (and `filter`, as we'll see later) is a function that works **per each element**. The notation would be `f(x) => y`, where `x` is an element of the collection:\n",
    "\n",
    "_Collection_: `[x₀, x₁, x₂, ..., xⱼ]`\n",
    "\n",
    "_Function_: `f(x) => y`\n",
    "\n",
    "_Result_: `[y₀, y₁, y₂, ..., yⱼ]`\n",
    "\n",
    "We can say that the _Result_ collection will always have the same number of elements as the original collection, but transformed.\n",
    "\n",
    "**Summary**\n",
    "\n",
    "```\n",
    "x₀  => f(x₀)  => y₀ \n",
    "x₁  => f(x₁)  => y₁\n",
    "x₂  => f(x₂)  => y₂\n",
    "...\n",
    "xⱼ  =>  f(xⱼ)  => yⱼ\n",
    "```\n",
    "\n",
    "Let's see another example. In this case we have a list of numbers and we want to square each one of them."
   ]
  },
  {
   "cell_type": "code",
   "execution_count": 11,
   "metadata": {},
   "outputs": [],
   "source": [
    "l = [0, 1, 2, 3, 4]"
   ]
  },
  {
   "cell_type": "markdown",
   "metadata": {},
   "source": [
    "The function in this case takes **a single** number, and returns it squared:"
   ]
  },
  {
   "cell_type": "code",
   "execution_count": 12,
   "metadata": {},
   "outputs": [],
   "source": [
    "def square(x):\n",
    "    return x ** 2"
   ]
  },
  {
   "cell_type": "markdown",
   "metadata": {},
   "source": [
    "Applying map with that function and list:"
   ]
  },
  {
   "cell_type": "code",
   "execution_count": 13,
   "metadata": {},
   "outputs": [],
   "source": [
    "result = map(square, l)"
   ]
  },
  {
   "cell_type": "code",
   "execution_count": 14,
   "metadata": {},
   "outputs": [
    {
     "data": {
      "text/plain": [
       "[0, 1, 4, 9, 16]"
      ]
     },
     "execution_count": 14,
     "metadata": {},
     "output_type": "execute_result"
    }
   ],
   "source": [
    "list(result)"
   ]
  },
  {
   "cell_type": "markdown",
   "metadata": {},
   "source": [
    "You can probably think that defining an entire function for an operation as simple as square is overkilling. So we can use our good ol' friends **lambdas** to make it a little bit more concise:"
   ]
  },
  {
   "cell_type": "code",
   "execution_count": 15,
   "metadata": {},
   "outputs": [],
   "source": [
    "result = map(lambda x: x ** 2, l)"
   ]
  },
  {
   "cell_type": "code",
   "execution_count": 16,
   "metadata": {
    "scrolled": false
   },
   "outputs": [
    {
     "data": {
      "text/plain": [
       "[0, 1, 4, 9, 16]"
      ]
     },
     "execution_count": 16,
     "metadata": {},
     "output_type": "execute_result"
    }
   ],
   "source": [
    "list(result)"
   ]
  },
  {
   "cell_type": "markdown",
   "metadata": {},
   "source": [
    "This is the `map` function, and we've taken some time to explain it in detail because the following ones will follow the same concepts.\n",
    "\n",
    "### Filter\n",
    "\n",
    "The [Filter](https://en.wikipedia.org/wiki/Filter_%28higher-order_function%29) function is probably the most intuitive one. It does exactly what the function name states: filters elements. Similarly to `map`, `filter` receives a function and a collection as parameters, and returns another collection. **The key difference is in the function it receives**: it decides, per each element, if it should be \"filtered out\" or not. Let's work with an example. Let's assume we have the same list of names as before:\n",
    "\n",
    "```python\n",
    "l = ['Jane', 'Tom', 'Robert']\n",
    "```\n",
    "\n",
    "And we want to `filter` the list, so we keep only those elements with **_at least 4 characters_**. Our result would be:\n",
    "\n",
    "```python\n",
    "result = ['Jane', 'Robert']\n",
    "```\n",
    "\n",
    "`'Jane'` has 4 characters and `'Robert'` has 6, both pass the condition (_\"at least 4 chars\"_).\n",
    "\n",
    "Note that the result, in this case, **isn't a list of different elements, it contains the same elements as the original collection**. As opposed to `map`, filter doesn't _transform_ the elements, it just keep the original ones; but only the ones that pass the condition specified.\n",
    "\n",
    "![filter](https://docs.google.com/drawings/d/e/2PACX-1vSbFKWDA7aq7hAcqr7RvHTFwoB9KK_DE5NoIh89T6eajYfICojsj-LvLviKaFI5fmMRYzp0za9dpCHG/pub?w=960&h=720)\n",
    "\n",
    "Let's see some code to demonstrate our previous example. We start with the filtering condition. We want to keep the element, only if it has _at least 4 characters_. The condition function must return `True` if we want to keep the element, and `False` if we want to reject it:"
   ]
  },
  {
   "cell_type": "code",
   "execution_count": 17,
   "metadata": {},
   "outputs": [],
   "source": [
    "def has_at_least_4_chars(a_name):\n",
    "    if len(a_name) >= 4:\n",
    "        return True\n",
    "    return False"
   ]
  },
  {
   "cell_type": "code",
   "execution_count": 18,
   "metadata": {},
   "outputs": [
    {
     "data": {
      "text/plain": [
       "True"
      ]
     },
     "execution_count": 18,
     "metadata": {},
     "output_type": "execute_result"
    }
   ],
   "source": [
    "has_at_least_4_chars('Jane')"
   ]
  },
  {
   "cell_type": "code",
   "execution_count": 19,
   "metadata": {},
   "outputs": [
    {
     "data": {
      "text/plain": [
       "True"
      ]
     },
     "execution_count": 19,
     "metadata": {},
     "output_type": "execute_result"
    }
   ],
   "source": [
    "has_at_least_4_chars('Robert')"
   ]
  },
  {
   "cell_type": "code",
   "execution_count": 20,
   "metadata": {},
   "outputs": [
    {
     "data": {
      "text/plain": [
       "False"
      ]
     },
     "execution_count": 20,
     "metadata": {},
     "output_type": "execute_result"
    }
   ],
   "source": [
    "has_at_least_4_chars('Tom')"
   ]
  },
  {
   "cell_type": "markdown",
   "metadata": {},
   "source": [
    "As you can see, that for both `'Jane'` and `'Robert'`, the function returns `True`, but for `'Tom'` it returns `False`. We have all that we need, we can apply the `filter` function with our list of names:"
   ]
  },
  {
   "cell_type": "code",
   "execution_count": 21,
   "metadata": {},
   "outputs": [],
   "source": [
    "l = ['Jane', 'Tom', 'Robert']"
   ]
  },
  {
   "cell_type": "code",
   "execution_count": 22,
   "metadata": {},
   "outputs": [],
   "source": [
    "result = filter(has_at_least_4_chars, l)"
   ]
  },
  {
   "cell_type": "code",
   "execution_count": 23,
   "metadata": {},
   "outputs": [
    {
     "data": {
      "text/plain": [
       "['Jane', 'Robert']"
      ]
     },
     "execution_count": 23,
     "metadata": {},
     "output_type": "execute_result"
    }
   ],
   "source": [
    "list(result)"
   ]
  },
  {
   "cell_type": "markdown",
   "metadata": {},
   "source": [
    "Again, as you can see, the result is another collections with only the elements that passed the condition. But they're the original elements, haven't been _transformed_.\n",
    "\n",
    "The more formal definition would be:\n",
    "\n",
    "_Collection_: `[x₀, x₁, x₂, ..., xⱼ]`\n",
    "\n",
    "_Function_: `f(x) => y (bool, True|False)`\n",
    "\n",
    "_Result_: `[x₀ if y₀ is True, x₁ if y₁ is True, ..., xⱼ if yⱼ is True]`\n",
    "\n",
    "In this case, the resulting collection has \"potentially\" less elements than the original one (it might happen that the condition function returns `True` for every `xⱼ`), but the elements are not _transformed_.\n",
    "\n",
    "**More Lambdas**\n",
    "\n",
    "Similarly to what happened with `map` and `get_length_of_name`, we can quickly see how overkilling it is to have an entire function (`has_at_least_4_chars`) just to check if the name has 4 or more chars. We can easily rework it with a lambda:"
   ]
  },
  {
   "cell_type": "code",
   "execution_count": 24,
   "metadata": {},
   "outputs": [],
   "source": [
    "l = ['Jane', 'Tom', 'Robert']"
   ]
  },
  {
   "cell_type": "code",
   "execution_count": 25,
   "metadata": {},
   "outputs": [],
   "source": [
    "result = filter(lambda n: len(n) >= 4, l)"
   ]
  },
  {
   "cell_type": "code",
   "execution_count": 26,
   "metadata": {},
   "outputs": [
    {
     "data": {
      "text/plain": [
       "['Jane', 'Robert']"
      ]
     },
     "execution_count": 26,
     "metadata": {},
     "output_type": "execute_result"
    }
   ],
   "source": [
    "list(result)"
   ]
  },
  {
   "cell_type": "markdown",
   "metadata": {},
   "source": [
    "As you can see, the result is the same.\n",
    "\n",
    "\n",
    "**Another example**\n",
    "\n",
    "(Feel free to pause and work it on your own first)\n",
    "From the previous list of names, we want to **keep only those names which have an odd number of characters**.\n",
    "\n",
    "The lambda function is something like:"
   ]
  },
  {
   "cell_type": "code",
   "execution_count": 27,
   "metadata": {},
   "outputs": [],
   "source": [
    "is_odd = lambda n: len(n) % 2 == 1"
   ]
  },
  {
   "cell_type": "code",
   "execution_count": 28,
   "metadata": {},
   "outputs": [
    {
     "data": {
      "text/plain": [
       "False"
      ]
     },
     "execution_count": 28,
     "metadata": {},
     "output_type": "execute_result"
    }
   ],
   "source": [
    "is_odd('Robert')"
   ]
  },
  {
   "cell_type": "code",
   "execution_count": 29,
   "metadata": {},
   "outputs": [
    {
     "data": {
      "text/plain": [
       "False"
      ]
     },
     "execution_count": 29,
     "metadata": {},
     "output_type": "execute_result"
    }
   ],
   "source": [
    "is_odd('Jane')"
   ]
  },
  {
   "cell_type": "code",
   "execution_count": 30,
   "metadata": {},
   "outputs": [
    {
     "data": {
      "text/plain": [
       "True"
      ]
     },
     "execution_count": 30,
     "metadata": {},
     "output_type": "execute_result"
    }
   ],
   "source": [
    "is_odd('Tom')"
   ]
  },
  {
   "cell_type": "markdown",
   "metadata": {},
   "source": [
    "We can apply then the filter function to our original list of names using the previously defined lambda:"
   ]
  },
  {
   "cell_type": "code",
   "execution_count": 31,
   "metadata": {},
   "outputs": [],
   "source": [
    "result = filter(lambda n: len(n) % 2 == 1, l)"
   ]
  },
  {
   "cell_type": "code",
   "execution_count": 32,
   "metadata": {},
   "outputs": [
    {
     "data": {
      "text/plain": [
       "['Tom']"
      ]
     },
     "execution_count": 32,
     "metadata": {},
     "output_type": "execute_result"
    }
   ],
   "source": [
    "list(result)"
   ]
  },
  {
   "cell_type": "markdown",
   "metadata": {},
   "source": [
    "Only `'Tom'` has an odd number of chars (`3`).\n",
    "\n",
    "### Immutability interlude\n",
    "\n",
    "Once again, please observe that both `map` and `filter` are **immutable**. They never modify the original list. I'll create a list with names `list_of_names` at the top and run a few `map`s and `filter`s and you'll see, after all, that `list_of_names` hasn't changed:"
   ]
  },
  {
   "cell_type": "code",
   "execution_count": 33,
   "metadata": {},
   "outputs": [],
   "source": [
    "list_of_names = ['Jane', 'Tom', 'Robert']"
   ]
  },
  {
   "cell_type": "code",
   "execution_count": 34,
   "metadata": {},
   "outputs": [
    {
     "data": {
      "text/plain": [
       "['enaJ', 'moT', 'treboR']"
      ]
     },
     "execution_count": 34,
     "metadata": {},
     "output_type": "execute_result"
    }
   ],
   "source": [
    "# Reversing the names\n",
    "result = map(lambda n: n[::-1], list_of_names)\n",
    "list(result)"
   ]
  },
  {
   "cell_type": "code",
   "execution_count": 35,
   "metadata": {},
   "outputs": [
    {
     "data": {
      "text/plain": [
       "['JaneX', 'TomX', 'RobertX']"
      ]
     },
     "execution_count": 35,
     "metadata": {},
     "output_type": "execute_result"
    }
   ],
   "source": [
    "# Appending an 'X' to each name\n",
    "result = map(lambda n: n + 'X', list_of_names)\n",
    "list(result)"
   ]
  },
  {
   "cell_type": "code",
   "execution_count": 36,
   "metadata": {},
   "outputs": [
    {
     "data": {
      "text/plain": [
       "[]"
      ]
     },
     "execution_count": 36,
     "metadata": {},
     "output_type": "execute_result"
    }
   ],
   "source": [
    "# Keep only names starting with `S`\n",
    "# No name satisfies the condition, empty result\n",
    "result = filter(lambda n: n[0] == 'S', list_of_names)\n",
    "list(result)"
   ]
  },
  {
   "cell_type": "code",
   "execution_count": 37,
   "metadata": {},
   "outputs": [
    {
     "data": {
      "text/plain": [
       "['Jane', 'Tom', 'Robert']"
      ]
     },
     "execution_count": 37,
     "metadata": {},
     "output_type": "execute_result"
    }
   ],
   "source": [
    "# list_of_names hasn't changed\n",
    "list_of_names"
   ]
  },
  {
   "cell_type": "markdown",
   "metadata": {},
   "source": [
    "### Reduce\n",
    "\n",
    "Finally, we need to talk about reduce. But before I explain how reduce works, I need to give you a few conceptual warnings.\n",
    "\n",
    "First, `reduce` isn't nearly as popular as `map` and `filter`. I've personally seen `reduce` correctly and beneficially applied only a handful of times (and I've been coding for a really long time). Even more, Guido van Rossum, the creator of Python, is against the irresponsible use of `reduce`, saying:\n",
    "\n",
    "> This is actually the one I've always hated most, because, apart from a few examples involving + or *, almost every time I see a reduce() call with a non-trivial function argument, I need to grab pen and paper to diagram what's actually being fed into that function before I understand what the reduce() is supposed to do...\n",
    "\n",
    "[Read the full article here](https://www.artima.com/weblogs/viewpost.jsp?thread=98196)\n",
    "\n",
    "So Guido (and the Python team) considered `reduce` so harmful (when incorrectly used) that they decided to remove it from the standard library in Python 3. That means that, in Python 2 you can just type `reduce` in your interpreter (without any imports) and it'll just work. In Python 3, you need to **explicitly** import it from the `functools` module.\n",
    "\n",
    "So, how reduce work? Reduce, similarly to `map` and `filter` takes two arguments: a function and a collection. But in contrast to its cousins, `reduce` **does NOT** return a new collection: **it returns a single element**, usually, by combining the original elements all into one (\"associative operators\", as Guido says).\n",
    "\n",
    "![Reduce](https://docs.google.com/drawings/d/e/2PACX-1vThs0yO80SbOiNruNc4c5BFBtKdT6OOhSCqJST9HdVImv1JMwOe3Ol2I00jZdl-Xu-_-hzH9lB35s3Z/pub?w=960&h=720)\n",
    "\n",
    "Probably the simplest example of reduce is adding all the numbers in a list (pretty much what `sum` does):"
   ]
  },
  {
   "cell_type": "code",
   "execution_count": 38,
   "metadata": {},
   "outputs": [],
   "source": [
    "l = [9, 8, 4, 3, 6]"
   ]
  },
  {
   "cell_type": "code",
   "execution_count": 39,
   "metadata": {},
   "outputs": [
    {
     "data": {
      "text/plain": [
       "30"
      ]
     },
     "execution_count": 39,
     "metadata": {},
     "output_type": "execute_result"
    }
   ],
   "source": [
    "sum(l)"
   ]
  },
  {
   "cell_type": "markdown",
   "metadata": {},
   "source": [
    "If you don't have the `sum` function available, your choice would be to use a for loop:"
   ]
  },
  {
   "cell_type": "code",
   "execution_count": 40,
   "metadata": {},
   "outputs": [
    {
     "data": {
      "text/plain": [
       "30"
      ]
     },
     "execution_count": 40,
     "metadata": {},
     "output_type": "execute_result"
    }
   ],
   "source": [
    "total = 0\n",
    "for num in l:\n",
    "    total += num\n",
    "total"
   ]
  },
  {
   "cell_type": "markdown",
   "metadata": {},
   "source": [
    "Reduce does pretty much the same thing. As we said, it'll take the original collection of numbers, but it'll also take a function, in this case the function takes two parameters, the current element, **plus an accumulator**. To work the intuition, I'll do another for loop first:"
   ]
  },
  {
   "cell_type": "code",
   "execution_count": 41,
   "metadata": {},
   "outputs": [],
   "source": [
    "def add_element(accumulated, current_value):\n",
    "    return accumulated + current_value"
   ]
  },
  {
   "cell_type": "code",
   "execution_count": 42,
   "metadata": {},
   "outputs": [
    {
     "data": {
      "text/plain": [
       "30"
      ]
     },
     "execution_count": 42,
     "metadata": {},
     "output_type": "execute_result"
    }
   ],
   "source": [
    "total = 0\n",
    "for num in l:\n",
    "    total = add_element(total, num)\n",
    "total"
   ]
  },
  {
   "cell_type": "markdown",
   "metadata": {},
   "source": [
    "As you can see, works in the same way, and we're just \"re-assigning\" `total` with every new value.\n",
    "\n",
    "`reduce` will work similarly (note that I need to import `reduce` from `functools` because I'm using Python 3. If you're in Python 2, you don't need to import it):"
   ]
  },
  {
   "cell_type": "code",
   "execution_count": 43,
   "metadata": {},
   "outputs": [],
   "source": [
    "from functools import reduce"
   ]
  },
  {
   "cell_type": "code",
   "execution_count": 44,
   "metadata": {},
   "outputs": [
    {
     "data": {
      "text/plain": [
       "30"
      ]
     },
     "execution_count": 44,
     "metadata": {},
     "output_type": "execute_result"
    }
   ],
   "source": [
    "reduce(add_element, l, 0)"
   ]
  },
  {
   "cell_type": "markdown",
   "metadata": {},
   "source": [
    "(Same result). The third parameter, `0`, is the initial value of the accumulator. Another good example of reduce is to multiply all the elements in a list. In this case, the initial value should be `1` (and we'll use a lambda):"
   ]
  },
  {
   "cell_type": "code",
   "execution_count": 45,
   "metadata": {},
   "outputs": [
    {
     "data": {
      "text/plain": [
       "5184"
      ]
     },
     "execution_count": 45,
     "metadata": {},
     "output_type": "execute_result"
    }
   ],
   "source": [
    "reduce(lambda acc, x: acc * x, l, 1)"
   ]
  },
  {
   "cell_type": "markdown",
   "metadata": {},
   "source": [
    "Which is the same as doing:"
   ]
  },
  {
   "cell_type": "code",
   "execution_count": 46,
   "metadata": {},
   "outputs": [
    {
     "data": {
      "text/plain": [
       "5184"
      ]
     },
     "execution_count": 46,
     "metadata": {},
     "output_type": "execute_result"
    }
   ],
   "source": [
    "total = 1\n",
    "for num in l:\n",
    "    total *= num\n",
    "total"
   ]
  },
  {
   "cell_type": "markdown",
   "metadata": {},
   "source": [
    "That's it, this covers the three most important functions in the FP paradigm. Once again, `map` and `filter` are **really** common and useful. So useful and common that we'll see some syntactic sugar for them in our next lesson about List comprehensions. And finally, remember to be cautious with your use of `reduce`, don't try to look too smart and use a for loop. Be like Guido:\n",
    "\n",
    "![Guido](https://www.artima.com/images/guido.jpg)"
   ]
  }
 ],
 "metadata": {
  "kernelspec": {
   "display_name": "Python 3",
   "language": "python",
   "name": "python3"
  },
  "language_info": {
   "codemirror_mode": {
    "name": "ipython",
    "version": 3
   },
   "file_extension": ".py",
   "mimetype": "text/x-python",
   "name": "python",
   "nbconvert_exporter": "python",
   "pygments_lexer": "ipython3",
   "version": "3.6.0"
  }
 },
 "nbformat": 4,
 "nbformat_minor": 2
}
