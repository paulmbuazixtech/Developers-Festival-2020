{
 "cells": [
  {
   "cell_type": "markdown",
   "metadata": {},
   "source": [
    "# Advanced Function Features\n",
    "\n",
    "### Variable arguments and keyword arguments\n",
    "\n",
    "Used when you don't know how many, or what arguments/parameters you'll receive. First we need to define \"argument\" and \"keyword argument\". The distinction is simple, when the function is **invoked** with the name of the argument, it's a _keyword argument_ in other case, it's just a regular argument.\n",
    "\n",
    "Let's see an example using the following function:\n",
    "\n",
    "```python\n",
    "def my_function(a, b, hello=None):\n",
    "    pass\n",
    "```\n",
    "\n",
    "If we invoke the function in the following way:\n",
    "\n",
    "```python\n",
    "my_function(3, b=None)\n",
    "```\n",
    "In that case, the **argument** `a` takes the value `3`, and the **keyword argument** `b` takes the value `None`.\n",
    "\n",
    "We don't need to _**fix**_ the arguments of our function, we can make it dynamic:"
   ]
  },
  {
   "cell_type": "code",
   "execution_count": 1,
   "metadata": {},
   "outputs": [],
   "source": [
    "def my_function(*args, **kwargs):\n",
    "    print(\"Args: {}\".format(args))\n",
    "    print(\"Keyword Args: {}\".format(kwargs))"
   ]
  },
  {
   "cell_type": "code",
   "execution_count": 2,
   "metadata": {},
   "outputs": [
    {
     "name": "stdout",
     "output_type": "stream",
     "text": [
      "Args: (2, 'a', True)\n",
      "Keyword Args: {'goodbye': None}\n"
     ]
    }
   ],
   "source": [
    "my_function(2, 'a', True, goodbye=None)"
   ]
  },
  {
   "cell_type": "code",
   "execution_count": 3,
   "metadata": {},
   "outputs": [
    {
     "name": "stdout",
     "output_type": "stream",
     "text": [
      "Args: ()\n",
      "Keyword Args: {}\n"
     ]
    }
   ],
   "source": [
    "my_function()"
   ]
  },
  {
   "cell_type": "code",
   "execution_count": 4,
   "metadata": {
    "scrolled": true
   },
   "outputs": [
    {
     "name": "stdout",
     "output_type": "stream",
     "text": [
      "Args: (3, 'J')\n",
      "Keyword Args: {}\n"
     ]
    }
   ],
   "source": [
    "my_function(3, 'J')"
   ]
  },
  {
   "cell_type": "code",
   "execution_count": 5,
   "metadata": {},
   "outputs": [
    {
     "name": "stdout",
     "output_type": "stream",
     "text": [
      "Args: ()\n",
      "Keyword Args: {'user': 'John'}\n"
     ]
    }
   ],
   "source": [
    "my_function(user='John')"
   ]
  },
  {
   "cell_type": "markdown",
   "metadata": {},
   "source": [
    "As you can see, arguments are placed in a tuple, and keyword arguments are placed in a dictionary.\n",
    "\n",
    "A couple more examples.\n",
    "\n",
    "##### `*args`\n"
   ]
  },
  {
   "cell_type": "code",
   "execution_count": 6,
   "metadata": {},
   "outputs": [],
   "source": [
    "def sum(*args):\n",
    "    total = 0\n",
    "    for arg in args:\n",
    "        total += arg\n",
    "    return total"
   ]
  },
  {
   "cell_type": "code",
   "execution_count": 7,
   "metadata": {},
   "outputs": [
    {
     "data": {
      "text/plain": [
       "16"
      ]
     },
     "execution_count": 7,
     "metadata": {},
     "output_type": "execute_result"
    }
   ],
   "source": [
    "sum(3, 9, 4)"
   ]
  },
  {
   "cell_type": "code",
   "execution_count": 8,
   "metadata": {},
   "outputs": [
    {
     "data": {
      "text/plain": [
       "5"
      ]
     },
     "execution_count": 8,
     "metadata": {},
     "output_type": "execute_result"
    }
   ],
   "source": [
    "sum(3, 2)"
   ]
  },
  {
   "cell_type": "code",
   "execution_count": 9,
   "metadata": {
    "scrolled": true
   },
   "outputs": [
    {
     "data": {
      "text/plain": [
       "2"
      ]
     },
     "execution_count": 9,
     "metadata": {},
     "output_type": "execute_result"
    }
   ],
   "source": [
    "sum(2)"
   ]
  },
  {
   "cell_type": "code",
   "execution_count": 10,
   "metadata": {},
   "outputs": [
    {
     "data": {
      "text/plain": [
       "0"
      ]
     },
     "execution_count": 10,
     "metadata": {},
     "output_type": "execute_result"
    }
   ],
   "source": [
    "sum()"
   ]
  },
  {
   "cell_type": "markdown",
   "metadata": {},
   "source": [
    "##### `**kwargs`"
   ]
  },
  {
   "cell_type": "code",
   "execution_count": 11,
   "metadata": {},
   "outputs": [],
   "source": [
    "def user_sql(**kwargs):\n",
    "    print(kwargs)\n",
    "    print(\"\")\n",
    "    print(\"\")\n",
    "    tpl = 'SELECT * FROM users WHERE '\n",
    "    for name, value in kwargs.items():\n",
    "        tpl += '\\n\\t{}=\"{}\" AND'.format(name, value)\n",
    "    return tpl.rstrip(' AND')"
   ]
  },
  {
   "cell_type": "code",
   "execution_count": 12,
   "metadata": {},
   "outputs": [
    {
     "name": "stdout",
     "output_type": "stream",
     "text": [
      "{'user': 'John', 'password': 'admin', 'country': 'US'}\n",
      "\n",
      "\n",
      "SELECT * FROM users WHERE \n",
      "\tuser=\"John\" AND\n",
      "\tpassword=\"admin\" AND\n",
      "\tcountry=\"US\"\n"
     ]
    }
   ],
   "source": [
    "print(user_sql(user='John', password='admin', country='US'))"
   ]
  },
  {
   "cell_type": "code",
   "execution_count": 13,
   "metadata": {},
   "outputs": [
    {
     "name": "stdout",
     "output_type": "stream",
     "text": [
      "{'user': 'John', 'role': 'Manager'}\n",
      "\n",
      "\n",
      "SELECT * FROM users WHERE \n",
      "\tuser=\"John\" AND\n",
      "\trole=\"Manager\"\n"
     ]
    }
   ],
   "source": [
    "print(user_sql(user='John', role='Manager'))"
   ]
  },
  {
   "cell_type": "markdown",
   "metadata": {},
   "source": [
    "### Lambdas\n",
    "\n",
    "Lambdas are just another way of constructing a function. Usually also known as \"anonymous functions\". Let's see an example:"
   ]
  },
  {
   "cell_type": "code",
   "execution_count": 14,
   "metadata": {},
   "outputs": [],
   "source": [
    "# Using a traditional function\n",
    "def add(a, b):\n",
    "    return a + b"
   ]
  },
  {
   "cell_type": "code",
   "execution_count": 15,
   "metadata": {},
   "outputs": [
    {
     "data": {
      "text/plain": [
       "5"
      ]
     },
     "execution_count": 15,
     "metadata": {},
     "output_type": "execute_result"
    }
   ],
   "source": [
    "add(2, 3)"
   ]
  },
  {
   "cell_type": "code",
   "execution_count": 16,
   "metadata": {},
   "outputs": [],
   "source": [
    "# using a lambda\n",
    "add = lambda a, b: a + b"
   ]
  },
  {
   "cell_type": "code",
   "execution_count": 17,
   "metadata": {},
   "outputs": [
    {
     "data": {
      "text/plain": [
       "5"
      ]
     },
     "execution_count": 17,
     "metadata": {},
     "output_type": "execute_result"
    }
   ],
   "source": [
    "add(2, 3)"
   ]
  },
  {
   "cell_type": "markdown",
   "metadata": {},
   "source": [
    "As you can see, both functions work in the same way. Lambdas have a couple of rules. The syntax is:\n",
    "\n",
    "```python\n",
    "lambda <PARAMS>: <RETURN VALUE>\n",
    "```\n",
    "\n",
    "Lambdas will return whatever was your last expression, that's why we can just put `a + b` in our previous example `add` function. Lambdas have pretty strict rules, including: **They DO NOT support control flow structures as `if` or `for` statements.** That makes lambdas less flexible. But, highly expressive.\n",
    "\n",
    "In our following lesson, we're going to explore the power of lambdas: brevity (conciseness) and expressiveness."
   ]
  }
 ],
 "metadata": {
  "kernelspec": {
   "display_name": "Python 3",
   "language": "python",
   "name": "python3"
  },
  "language_info": {
   "codemirror_mode": {
    "name": "ipython",
    "version": 3
   },
   "file_extension": ".py",
   "mimetype": "text/x-python",
   "name": "python",
   "nbconvert_exporter": "python",
   "pygments_lexer": "ipython3",
   "version": "3.6.0"
  }
 },
 "nbformat": 4,
 "nbformat_minor": 2
}
