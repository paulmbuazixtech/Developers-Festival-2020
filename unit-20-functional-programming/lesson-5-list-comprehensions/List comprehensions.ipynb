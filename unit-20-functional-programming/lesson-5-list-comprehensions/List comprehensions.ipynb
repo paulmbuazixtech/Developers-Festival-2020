{
 "cells": [
  {
   "cell_type": "markdown",
   "metadata": {},
   "source": [
    "# List comprehensions\n",
    "\n",
    "List comprehensions are a really important Python feature. Probably, the first thing we think about when we talk about \"Pythonic\" code. But what are they? \"List Comprehension\" surely sounds like and advanced feature, but the truth is that they're just syntactic sugar on top of our, now well known, `map` and `filter` function.\n",
    "\n",
    "Let's start with an example. In our previous lesson we used `map` to transform a list of names, to a list with each name's length:"
   ]
  },
  {
   "cell_type": "code",
   "execution_count": 1,
   "metadata": {},
   "outputs": [],
   "source": [
    "list_of_names = ['Jane', 'Tom', 'Robert']"
   ]
  },
  {
   "cell_type": "code",
   "execution_count": 2,
   "metadata": {},
   "outputs": [
    {
     "data": {
      "text/plain": [
       "[4, 3, 6]"
      ]
     },
     "execution_count": 2,
     "metadata": {},
     "output_type": "execute_result"
    }
   ],
   "source": [
    "result = map(lambda n: len(n), list_of_names)\n",
    "list(result)"
   ]
  },
  {
   "cell_type": "markdown",
   "metadata": {},
   "source": [
    "We can use a list comprehension instead of using `map`. It's pretty much the same thing, but it looks so much better:"
   ]
  },
  {
   "cell_type": "code",
   "execution_count": 3,
   "metadata": {},
   "outputs": [
    {
     "data": {
      "text/plain": [
       "[4, 3, 6]"
      ]
     },
     "execution_count": 3,
     "metadata": {},
     "output_type": "execute_result"
    }
   ],
   "source": [
    "[len(n) for n in list_of_names]"
   ]
  },
  {
   "cell_type": "markdown",
   "metadata": {},
   "source": [
    "As you can see, it's exactly the same result. Syntactically, List Comprehensions are defined in this way:\n",
    "\n",
    "```\n",
    "[<EXPRESSION> for elem in <COLLECTION>]\n",
    "```\n",
    "\n",
    "In this case, the `for` part should look familiar. Is the same syntax as the one used in regular Python for loops. The `<EXPRESSION>` is probably the most confusing one. This is just an expression (a chunk of code) with the result of whatever transformation you want to apply to your elements. If you look carefully, it's the same thing we did with our lambda, after all, the second part of our lambda is just `len(n)`.\n",
    "\n",
    "Another example, both using `map` and list comprehensions, to turn every name into uppercase:"
   ]
  },
  {
   "cell_type": "code",
   "execution_count": 4,
   "metadata": {},
   "outputs": [
    {
     "data": {
      "text/plain": [
       "['JANE', 'TOM', 'ROBERT']"
      ]
     },
     "execution_count": 4,
     "metadata": {},
     "output_type": "execute_result"
    }
   ],
   "source": [
    "result = map(lambda n: n.upper(), list_of_names)\n",
    "list(result)"
   ]
  },
  {
   "cell_type": "code",
   "execution_count": 5,
   "metadata": {},
   "outputs": [
    {
     "data": {
      "text/plain": [
       "['JANE', 'TOM', 'ROBERT']"
      ]
     },
     "execution_count": 5,
     "metadata": {},
     "output_type": "execute_result"
    }
   ],
   "source": [
    "[n.upper() for n in list_of_names]"
   ]
  },
  {
   "cell_type": "markdown",
   "metadata": {},
   "source": [
    "As said before, the `for` part works exactly in the same way as our previous for loops. For example, we can iterate over dictionary's keys and values. Suppose you have the following dictionary:"
   ]
  },
  {
   "cell_type": "code",
   "execution_count": 6,
   "metadata": {},
   "outputs": [],
   "source": [
    "d = {\n",
    "    'foo': 2,\n",
    "    'bar': 3,\n",
    "    'zing': 4\n",
    "}"
   ]
  },
  {
   "cell_type": "markdown",
   "metadata": {},
   "source": [
    "And you want to turn it into a list containing each key, multiplied by the value. Using a regular for loop:"
   ]
  },
  {
   "cell_type": "code",
   "execution_count": 7,
   "metadata": {},
   "outputs": [
    {
     "data": {
      "text/plain": [
       "['foofoo', 'barbarbar', 'zingzingzingzing']"
      ]
     },
     "execution_count": 7,
     "metadata": {},
     "output_type": "execute_result"
    }
   ],
   "source": [
    "result = []\n",
    "for k, v in d.items():\n",
    "    new_elem = k * v\n",
    "    result.append(new_elem)\n",
    "result"
   ]
  },
  {
   "cell_type": "markdown",
   "metadata": {},
   "source": [
    "We could easily turn that into a list comprehension:"
   ]
  },
  {
   "cell_type": "code",
   "execution_count": 8,
   "metadata": {},
   "outputs": [
    {
     "data": {
      "text/plain": [
       "['foofoo', 'barbarbar', 'zingzingzingzing']"
      ]
     },
     "execution_count": 8,
     "metadata": {},
     "output_type": "execute_result"
    }
   ],
   "source": [
    "[k * v for k, v in d.items()]"
   ]
  },
  {
   "cell_type": "markdown",
   "metadata": {},
   "source": [
    "The same result is produced, but with many advantages:\n",
    "* We have now an immutable solution\n",
    "* It's a lot more concise\n",
    "* We're expressing it in one line, without the \"imperative\" procedure\n",
    "\n",
    "The last point is related to Declarative Programming. We don't need to get into details there, but basically, we're telling the computer what we need, instead of telling it how to do it.\n",
    "\n",
    "A few lines above, I said that list comprehensions are syntactic sugar on top of `map` and `filter`, but in these examples, we've just used the `map`-like operation. There's also a `filter` part. Let's start with the same example as with our previous lesson: keeping those names with at least 4 characters:"
   ]
  },
  {
   "cell_type": "code",
   "execution_count": 9,
   "metadata": {},
   "outputs": [
    {
     "data": {
      "text/plain": [
       "['Jane', 'Robert']"
      ]
     },
     "execution_count": 9,
     "metadata": {},
     "output_type": "execute_result"
    }
   ],
   "source": [
    "result = filter(lambda n: len(n) >= 4, list_of_names)\n",
    "list(result)"
   ]
  },
  {
   "cell_type": "markdown",
   "metadata": {},
   "source": [
    "We can also use list comprehensions for this case:"
   ]
  },
  {
   "cell_type": "code",
   "execution_count": 10,
   "metadata": {},
   "outputs": [
    {
     "data": {
      "text/plain": [
       "['Jane', 'Robert']"
      ]
     },
     "execution_count": 10,
     "metadata": {},
     "output_type": "execute_result"
    }
   ],
   "source": [
    "[n for n in list_of_names if len(n) >= 4]"
   ]
  },
  {
   "cell_type": "markdown",
   "metadata": {},
   "source": [
    "As you can see, we have just extended our list comprehension syntax to include a third part, the `if` part:\n",
    "\n",
    "```\n",
    "[<EXPRESSION> for elem in <COLLECTION> if <CONDITION>]\n",
    "```\n",
    "\n",
    "In this case, `<CONDITION>` can be any valid Python expression that you want; the variable `elem` currently evaluated is available for it. And similarly to `filter`, that condition needs to return either `True` or `False`.\n",
    "\n",
    "Another example, filtering those elements that contain an odd number of characters:"
   ]
  },
  {
   "cell_type": "code",
   "execution_count": 11,
   "metadata": {},
   "outputs": [
    {
     "data": {
      "text/plain": [
       "['Tom']"
      ]
     },
     "execution_count": 11,
     "metadata": {},
     "output_type": "execute_result"
    }
   ],
   "source": [
    "result = filter(lambda n: len(n) % 2 == 1, list_of_names)\n",
    "list(result)"
   ]
  },
  {
   "cell_type": "code",
   "execution_count": 12,
   "metadata": {},
   "outputs": [
    {
     "data": {
      "text/plain": [
       "['Tom']"
      ]
     },
     "execution_count": 12,
     "metadata": {},
     "output_type": "execute_result"
    }
   ],
   "source": [
    "[n for n in list_of_names if len(n) % 2 == 1]"
   ]
  },
  {
   "cell_type": "markdown",
   "metadata": {},
   "source": [
    "As you can see, the expression `len(n) % 2 == 1` is the same in both the lambda and the list comprehension.\n",
    "\n",
    "### The true power of List Comprehensions\n",
    "\n",
    "List comprehensions are not just concise and beautiful. They also let you combine both `map` and `filter` operations in a single line. For example, let's say we want to get the length of each name (number of characters), but only for those names that have an odd number of chars. Let's start with a for loop:"
   ]
  },
  {
   "cell_type": "code",
   "execution_count": 13,
   "metadata": {},
   "outputs": [],
   "source": [
    "# We add 'Jimmy' to have a 5-char name\n",
    "list_of_names = ['Jane', 'Tom', 'Robert', 'Jimmy']"
   ]
  },
  {
   "cell_type": "code",
   "execution_count": 14,
   "metadata": {},
   "outputs": [
    {
     "data": {
      "text/plain": [
       "[3, 5]"
      ]
     },
     "execution_count": 14,
     "metadata": {},
     "output_type": "execute_result"
    }
   ],
   "source": [
    "result = []\n",
    "for name in list_of_names:\n",
    "    if len(name) % 2 == 1:\n",
    "        result.append(len(name))\n",
    "result"
   ]
  },
  {
   "cell_type": "markdown",
   "metadata": {},
   "source": [
    "We get `3` and `5`, corresponding to `'Tom'` and `'Jimmy'` respectively. How would you do that with a map/filter operation? It's definitively not so clean:"
   ]
  },
  {
   "cell_type": "code",
   "execution_count": 15,
   "metadata": {},
   "outputs": [
    {
     "data": {
      "text/plain": [
       "[3, 5]"
      ]
     },
     "execution_count": 15,
     "metadata": {},
     "output_type": "execute_result"
    }
   ],
   "source": [
    "result = map(\n",
    "    lambda n: len(n),\n",
    "    filter(lambda n: len(n) % 2 == 1, list_of_names)\n",
    ")\n",
    "list(result)"
   ]
  },
  {
   "cell_type": "markdown",
   "metadata": {},
   "source": [
    "We have the same result, but it's not pretty at all. Now we can use a List Comprehension:"
   ]
  },
  {
   "cell_type": "code",
   "execution_count": 16,
   "metadata": {},
   "outputs": [
    {
     "data": {
      "text/plain": [
       "[3, 5]"
      ]
     },
     "execution_count": 16,
     "metadata": {},
     "output_type": "execute_result"
    }
   ],
   "source": [
    "[len(n) for n in list_of_names if len(n) % 2 == 1]"
   ]
  },
  {
   "cell_type": "markdown",
   "metadata": {},
   "source": [
    "As you can see, the List Comprehension is **A LOT more expressive**. You're basically specifying _\"what you want to get\"_ (`<EXPRESSION>`) and under which circumstances (`<CONDITION>`)."
   ]
  }
 ],
 "metadata": {
  "kernelspec": {
   "display_name": "Python 3",
   "language": "python",
   "name": "python3"
  },
  "language_info": {
   "codemirror_mode": {
    "name": "ipython",
    "version": 3
   },
   "file_extension": ".py",
   "mimetype": "text/x-python",
   "name": "python",
   "nbconvert_exporter": "python",
   "pygments_lexer": "ipython3",
   "version": "3.6.0"
  }
 },
 "nbformat": 4,
 "nbformat_minor": 2
}
