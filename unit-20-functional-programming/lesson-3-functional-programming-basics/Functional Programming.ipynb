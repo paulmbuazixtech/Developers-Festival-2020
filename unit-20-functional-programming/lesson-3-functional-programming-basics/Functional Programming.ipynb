{
 "cells": [
  {
   "cell_type": "markdown",
   "metadata": {},
   "source": [
    "### Functional Programming\n",
    "\n",
    "It's incredibly hard to define [_\"Functional Programming\"_](https://en.wikipedia.org/wiki/Functional_programming). Each book has a different definition for it. We'll try to keep it simple. We'll say that, you are using a _\"functional programming approach\"_ if you:\n",
    "* Make use of functions as first class objects (and high level functions)\n",
    "* Favor immutability (or avoid side effects).\n",
    "\n",
    "Please note that we say that you \"follow\" a FP \"approach\". Functional programming is all about decisions and the style of the software that you design and code. You can transition from FP styles to more imperative styles, back and forth.\n",
    "\n",
    "You've already seen what _\"functions as first class objects\"_ mean. Let's focus in immutability now:"
   ]
  },
  {
   "cell_type": "markdown",
   "metadata": {},
   "source": [
    "### Immutability\n",
    "_(Or absence of side effects)_ \n",
    "\n",
    "Most of the time, whenever you need to write code to solve a problem, you'll have two options: **immutable** or **mutable**. The simplest example, you need to add an element to a list. For example, we have a dummy list of `['a', 'b']` and we want to add the element `'c'`. This is a super simple example, but you can find real life analogies (adding a user to a group, a product to a shopping cart, etc).\n",
    "\n",
    "To solve this, we can think about two solutions, one mutable and one immutable. let's start with the mutable first:\n",
    "\n",
    "##### Mutable solution"
   ]
  },
  {
   "cell_type": "code",
   "execution_count": 1,
   "metadata": {},
   "outputs": [],
   "source": [
    "l1 = ['a', 'b']\n",
    "l1.append('c')"
   ]
  },
  {
   "cell_type": "code",
   "execution_count": 2,
   "metadata": {},
   "outputs": [
    {
     "data": {
      "text/plain": [
       "['a', 'b', 'c']"
      ]
     },
     "execution_count": 2,
     "metadata": {},
     "output_type": "execute_result"
    }
   ],
   "source": [
    "l1"
   ]
  },
  {
   "cell_type": "markdown",
   "metadata": {},
   "source": [
    "As you can see, the output above shows the desired result (`['a', 'b', 'c']`). This solution is **mutable** because we're _\"mutating\"_ (modifying, changing) the original list `l1`."
   ]
  },
  {
   "cell_type": "markdown",
   "metadata": {},
   "source": [
    "##### Immutable solution"
   ]
  },
  {
   "cell_type": "code",
   "execution_count": 3,
   "metadata": {},
   "outputs": [],
   "source": [
    "l2 = ['a', 'b']"
   ]
  },
  {
   "cell_type": "code",
   "execution_count": 4,
   "metadata": {},
   "outputs": [],
   "source": [
    "l3 = l2 + ['c']"
   ]
  },
  {
   "cell_type": "code",
   "execution_count": 5,
   "metadata": {},
   "outputs": [
    {
     "data": {
      "text/plain": [
       "['a', 'b', 'c']"
      ]
     },
     "execution_count": 5,
     "metadata": {},
     "output_type": "execute_result"
    }
   ],
   "source": [
    "l3"
   ]
  },
  {
   "cell_type": "markdown",
   "metadata": {},
   "source": [
    "As you can see, this solution works in the same way, we end up with the same result (`['a', 'b', 'c']`). But in this case, we haven't \"mutated\" (changed) a single variable. `l2` was created as `['a', 'b']` and it remains the same:"
   ]
  },
  {
   "cell_type": "code",
   "execution_count": 6,
   "metadata": {},
   "outputs": [
    {
     "data": {
      "text/plain": [
       "['a', 'b']"
      ]
     },
     "execution_count": 6,
     "metadata": {},
     "output_type": "execute_result"
    }
   ],
   "source": [
    "l2"
   ]
  },
  {
   "cell_type": "markdown",
   "metadata": {},
   "source": [
    "`l3` is now containing the new element `'c'`. `l3` was created as `['a', 'b', 'c']` and it'll remain that way. Throughout the lifetime of our objects, we haven't modified (mutated) a single one of them.\n",
    "\n",
    "**When possible, try to use immutable solutions. They're safer than mutable ones.**"
   ]
  },
  {
   "cell_type": "markdown",
   "metadata": {},
   "source": [
    "### Back to FP\n",
    "\n",
    "Now we have all the pieces together, and FP is as simple as that:\n",
    "* **Favoring immutability**\n",
    "* **Using functions as First Class Objects**\n",
    "\n",
    "But this is just the beginning of FP. As FP programmers started to \"impose\" these restrictions, they started creating expressive and powerful functions, that laid down the foundations of FP. They are:\n",
    "\n",
    "* [Map](https://en.wikipedia.org/wiki/Map_%28higher-order_function%29)\n",
    "* [Filter](https://en.wikipedia.org/wiki/Filter_%28higher-order_function%29)\n",
    "* [Reduce](https://en.wikipedia.org/wiki/Fold_%28higher-order_function%29)\n",
    "\n",
    "The term \"[MapReduce](https://en.wikipedia.org/wiki/MapReduce)\" that you've probably heard referenced in Big Data is actually a programming model inspired by these two simple operations described above: Map and Reduce.\n",
    "\n",
    "In our following lesson, we'll explore them in detail."
   ]
  }
 ],
 "metadata": {
  "kernelspec": {
   "display_name": "Python 3",
   "language": "python",
   "name": "python3"
  },
  "language_info": {
   "codemirror_mode": {
    "name": "ipython",
    "version": 3
   },
   "file_extension": ".py",
   "mimetype": "text/x-python",
   "name": "python",
   "nbconvert_exporter": "python",
   "pygments_lexer": "ipython3",
   "version": "3.6.0"
  }
 },
 "nbformat": 4,
 "nbformat_minor": 2
}
