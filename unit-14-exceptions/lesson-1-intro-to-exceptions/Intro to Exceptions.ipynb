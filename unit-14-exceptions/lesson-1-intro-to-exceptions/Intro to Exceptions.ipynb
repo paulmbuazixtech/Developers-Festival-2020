{
 "cells": [
  {
   "cell_type": "markdown",
   "metadata": {},
   "source": [
    "# Intro to Exceptions\n",
    "\n",
    "[![XKCD Engineering Hubris](https://imgs.xkcd.com/comics/engineering_hubris.png)](https://xkcd.com/319/)\n",
    "\n",
    "> \"Anything that can go wrong, will go wrong\"\n",
    "\n",
    "Things will eventually go wrong. Sometimes, **WE will screw up**, and some other times, the environment will screw up.\n",
    "\n",
    "### When we screw up"
   ]
  },
  {
   "cell_type": "code",
   "execution_count": null,
   "metadata": {},
   "outputs": [],
   "source": [
    "def divide(a, b):\n",
    "    return a / b\n",
    "\n",
    "divide(2, 0)"
   ]
  },
  {
   "cell_type": "markdown",
   "metadata": {},
   "source": [
    "### The environment's fault\n",
    "\n",
    "Some times, things out of our control will go wrong. For example:\n",
    "* You run out of hard drive space\n",
    "* The internet connection suddenly breaks\n",
    "* Someone removes the device your program is reading/writing from/to.\n",
    "* Out of memory\n",
    "* [Cosmic rays](https://blogs.oracle.com/ksplice/attack-of-the-cosmic-rays)"
   ]
  },
  {
   "cell_type": "markdown",
   "metadata": {},
   "source": [
    "### Enter Exceptions\n",
    "\n",
    "[Built-in Exceptions](https://docs.python.org/3/library/exceptions.html)\n",
    "\n",
    "* `ValueError`\n",
    "* `IndexError`\n",
    "* `KeyError`\n",
    "* `ZeroDivisionError`"
   ]
  },
  {
   "cell_type": "markdown",
   "metadata": {},
   "source": [
    "**`ValueError`**"
   ]
  },
  {
   "cell_type": "code",
   "execution_count": null,
   "metadata": {},
   "outputs": [],
   "source": [
    "int('abc')"
   ]
  },
  {
   "cell_type": "markdown",
   "metadata": {},
   "source": [
    "**`IndexError`**"
   ]
  },
  {
   "cell_type": "code",
   "execution_count": null,
   "metadata": {},
   "outputs": [],
   "source": [
    "l = ['a', 'b']\n",
    "l[4]"
   ]
  },
  {
   "cell_type": "markdown",
   "metadata": {},
   "source": [
    "**`KeyError`**"
   ]
  },
  {
   "cell_type": "code",
   "execution_count": null,
   "metadata": {},
   "outputs": [],
   "source": [
    "d = {\n",
    "    'a': 1\n",
    "}\n",
    "d['b']"
   ]
  },
  {
   "cell_type": "markdown",
   "metadata": {},
   "source": [
    "**`ZeroDivisionError`**"
   ]
  },
  {
   "cell_type": "code",
   "execution_count": null,
   "metadata": {},
   "outputs": [],
   "source": [
    "2 / 0"
   ]
  },
  {
   "cell_type": "markdown",
   "metadata": {},
   "source": [
    "### Handling exceptions\n",
    "\n",
    "We can use the `try/except` block to handle abnormal situations.\n",
    "\n",
    "```python\n",
    "try:\n",
    "    something_that_can_go_wrong()\n",
    "except [ExceptionType [as e]]:\n",
    "    # do something to recover\n",
    "    pass\n",
    "```"
   ]
  },
  {
   "cell_type": "code",
   "execution_count": null,
   "metadata": {},
   "outputs": [],
   "source": [
    "try:\n",
    "    2 / 0\n",
    "except:\n",
    "    print(\"Something went wrong\")"
   ]
  },
  {
   "cell_type": "code",
   "execution_count": null,
   "metadata": {},
   "outputs": [],
   "source": [
    "try:\n",
    "    2 / 0\n",
    "except ZeroDivisionError:\n",
    "    print(\"Tried to divide by zero\")"
   ]
  },
  {
   "cell_type": "code",
   "execution_count": null,
   "metadata": {},
   "outputs": [],
   "source": [
    "l = []\n",
    "try:\n",
    "    2 / 0\n",
    "    l[1]\n",
    "except (ZeroDivisionError, IndexError):\n",
    "    print(\"Tried to divide by zero or invalid index\")"
   ]
  },
  {
   "cell_type": "code",
   "execution_count": null,
   "metadata": {},
   "outputs": [],
   "source": [
    "l = []\n",
    "try:\n",
    "    2 / 0\n",
    "    l[1]\n",
    "except ZeroDivisionError:\n",
    "    print(\"Tried to divide by zero\")\n",
    "except IndexError:\n",
    "    print(\"Invalid index\")"
   ]
  },
  {
   "cell_type": "markdown",
   "metadata": {},
   "source": [
    "### Example:"
   ]
  },
  {
   "cell_type": "code",
   "execution_count": null,
   "metadata": {},
   "outputs": [],
   "source": [
    "l = ['a', 'b']\n",
    "index = input('Position of the element you want to find: ')\n",
    "index_int = int(index)\n",
    "l[index_int]"
   ]
  },
  {
   "cell_type": "markdown",
   "metadata": {},
   "source": [
    "**Example to test exceptions**: https://learn.rmotr.com/python/base-python-track/exceptions/breaking-math"
   ]
  },
  {
   "cell_type": "code",
   "execution_count": null,
   "metadata": {},
   "outputs": [],
   "source": []
  }
 ],
 "metadata": {
  "kernelspec": {
   "display_name": "Python 3",
   "language": "python",
   "name": "python3"
  },
  "language_info": {
   "codemirror_mode": {
    "name": "ipython",
    "version": 3
   },
   "file_extension": ".py",
   "mimetype": "text/x-python",
   "name": "python",
   "nbconvert_exporter": "python",
   "pygments_lexer": "ipython3",
   "version": "3.6.0"
  }
 },
 "nbformat": 4,
 "nbformat_minor": 2
}
