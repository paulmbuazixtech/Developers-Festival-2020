{
 "cells": [
  {
   "cell_type": "markdown",
   "metadata": {},
   "source": [
    "### Raising Exceptions\n",
    "\n",
    "Sometimes, we'll want to raise exceptions when an unexpected condition happens."
   ]
  },
  {
   "cell_type": "code",
   "execution_count": null,
   "metadata": {},
   "outputs": [],
   "source": [
    "def search_users_by(username=None, email=None, country=None):\n",
    "    if username is None and email is None and country is None:\n",
    "        raise ValueError(\"Please provide at least 1 serch term\")\n",
    "    # ... rest of the code ..."
   ]
  },
  {
   "cell_type": "markdown",
   "metadata": {},
   "source": [
    "The syntax to raise exceptions is super simple:\n",
    "\n",
    "```python\n",
    "raise ExceptionType(\"A human-readable message\")\n",
    "```\n",
    "\n",
    "**Examples:**"
   ]
  },
  {
   "cell_type": "code",
   "execution_count": null,
   "metadata": {},
   "outputs": [],
   "source": [
    "raise ValueError('... message ...')"
   ]
  },
  {
   "cell_type": "code",
   "execution_count": null,
   "metadata": {},
   "outputs": [],
   "source": [
    "raise IndexError('... message ...')"
   ]
  },
  {
   "cell_type": "markdown",
   "metadata": {},
   "source": [
    "### State Machines\n",
    "\n",
    "\n",
    "[![State Machine](https://upload.wikimedia.org/wikipedia/commons/9/9e/Turnstile_state_machine_colored.svg)](https://en.wikipedia.org/wiki/Finite-state_machine)"
   ]
  },
  {
   "cell_type": "code",
   "execution_count": null,
   "metadata": {},
   "outputs": [],
   "source": [
    "lock_1 = {\n",
    "    'cost': 1.00,\n",
    "    'accumulated': 0,\n",
    "    'change': 0,\n",
    "    'state': 'locked'\n",
    "}\n",
    "\n",
    "\n",
    "def add_coin(lock, amount):\n",
    "    if amount < 0:\n",
    "        raise ValueError('Invalid Amount')\n",
    "    lock['accumulated'] += amount\n",
    "    if lock['accumulated'] >= lock['cost']:\n",
    "        lock['state'] = 'open'\n",
    "        lock['change'] = lock['accumulated'] - lock['cost']\n",
    "        raise ValueError('Lock is OPEN!')"
   ]
  },
  {
   "cell_type": "code",
   "execution_count": null,
   "metadata": {},
   "outputs": [],
   "source": [
    "add_coin(lock_1, -1)"
   ]
  },
  {
   "cell_type": "code",
   "execution_count": null,
   "metadata": {},
   "outputs": [],
   "source": [
    "amount_str = input('Amount: ')\n",
    "amount = float(amount_str)\n",
    "try:\n",
    "    add_coin(lock_1, amount)\n",
    "except ValueError as e:\n",
    "    if 'Invalid Amount' in str(e):\n",
    "        print(\"Error: The amount must be > 1\")\n",
    "    elif 'Lock is OPEN' in str(e):\n",
    "        print(\"Success: Lock is OPEN!\")\n",
    "        print(\"Your change: {}\".format(lock_1['change']))"
   ]
  },
  {
   "cell_type": "markdown",
   "metadata": {},
   "source": [
    "### Custom Exceptions... next lesson"
   ]
  },
  {
   "cell_type": "code",
   "execution_count": null,
   "metadata": {},
   "outputs": [],
   "source": []
  }
 ],
 "metadata": {
  "kernelspec": {
   "display_name": "Python 3",
   "language": "python",
   "name": "python3"
  },
  "language_info": {
   "codemirror_mode": {
    "name": "ipython",
    "version": 3
   },
   "file_extension": ".py",
   "mimetype": "text/x-python",
   "name": "python",
   "nbconvert_exporter": "python",
   "pygments_lexer": "ipython3",
   "version": "3.6.0"
  }
 },
 "nbformat": 4,
 "nbformat_minor": 2
}
