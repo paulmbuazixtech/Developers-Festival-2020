{
 "cells": [
  {
   "cell_type": "markdown",
   "metadata": {},
   "source": [
    "# Itertools module\n",
    "\n",
    "[https://docs.python.org/3/library/itertools.html](https://docs.python.org/3/library/itertools.html)"
   ]
  },
  {
   "cell_type": "code",
   "execution_count": 1,
   "metadata": {},
   "outputs": [],
   "source": [
    "import itertools"
   ]
  },
  {
   "cell_type": "markdown",
   "metadata": {},
   "source": [
    "##### `chain`"
   ]
  },
  {
   "cell_type": "code",
   "execution_count": null,
   "metadata": {
    "scrolled": true
   },
   "outputs": [],
   "source": [
    "d1 = ['A', 'B', 'C']\n",
    "d2 = 'DEF'\n",
    "for letter in itertools.chain(d1, d2, 'XYZ'):\n",
    "    print(letter)"
   ]
  },
  {
   "cell_type": "markdown",
   "metadata": {},
   "source": [
    "##### `compress`"
   ]
  },
  {
   "cell_type": "code",
   "execution_count": 2,
   "metadata": {},
   "outputs": [
    {
     "name": "stdout",
     "output_type": "stream",
     "text": [
      "Women:\n",
      "mary@rmotr.com\n",
      "jane@gmail.com\n",
      "\n",
      "-----\n",
      "\n",
      "Men:\n",
      "john@example.com\n",
      "robert@gmail.com\n"
     ]
    }
   ],
   "source": [
    "users = [\n",
    "    'john@example.com',\n",
    "    'mary@rmotr.com',\n",
    "    'jane@gmail.com',\n",
    "    'robert@gmail.com'\n",
    "]\n",
    "\n",
    "women = [0, 1, 1, 0]\n",
    "men = [1, 0, 0, 1]\n",
    "print(\"Women:\")\n",
    "for user in itertools.compress(users, women):\n",
    "    print(user)\n",
    "\n",
    "print('\\n-----\\n')\n",
    "print(\"Men:\")\n",
    "for user in itertools.compress(users, men):\n",
    "    print(user)\n"
   ]
  },
  {
   "cell_type": "markdown",
   "metadata": {},
   "source": [
    "##### `chain.from_iterable` (flatten)"
   ]
  },
  {
   "cell_type": "code",
   "execution_count": 3,
   "metadata": {},
   "outputs": [
    {
     "name": "stdout",
     "output_type": "stream",
     "text": [
      "A\n",
      "B\n",
      "C\n",
      "D\n",
      "E\n",
      "F\n",
      "G\n",
      "H\n",
      "I\n"
     ]
    }
   ],
   "source": [
    "it = [['A', 'B', 'C'], 'DEF', ('G', 'H', 'I')]\n",
    "for elem in itertools.chain.from_iterable(it):\n",
    "    print(elem)"
   ]
  },
  {
   "cell_type": "markdown",
   "metadata": {},
   "source": [
    "##### `repeat`"
   ]
  },
  {
   "cell_type": "code",
   "execution_count": 7,
   "metadata": {},
   "outputs": [
    {
     "data": {
      "text/plain": [
       "['a', 'a', 'a', 'a', 'a']"
      ]
     },
     "execution_count": 7,
     "metadata": {},
     "output_type": "execute_result"
    }
   ],
   "source": [
    "['a']* 5"
   ]
  },
  {
   "cell_type": "code",
   "execution_count": 4,
   "metadata": {},
   "outputs": [
    {
     "name": "stdout",
     "output_type": "stream",
     "text": [
      "john@example.com\n",
      "john@example.com\n",
      "john@example.com\n",
      "john@example.com\n",
      "john@example.com\n"
     ]
    }
   ],
   "source": [
    "for e in itertools.repeat('john@example.com', 5):\n",
    "    print(e)"
   ]
  },
  {
   "cell_type": "markdown",
   "metadata": {},
   "source": [
    "### Infinite Iterators"
   ]
  },
  {
   "cell_type": "markdown",
   "metadata": {},
   "source": [
    "##### `cycle`"
   ]
  },
  {
   "cell_type": "code",
   "execution_count": 8,
   "metadata": {},
   "outputs": [
    {
     "name": "stdout",
     "output_type": "stream",
     "text": [
      "A\n",
      "B\n",
      "C\n",
      "A\n",
      "B\n"
     ]
    }
   ],
   "source": [
    "count = 1\n",
    "for elem in itertools.cycle('ABC'):\n",
    "    print(elem)\n",
    "\n",
    "    if count == 5:\n",
    "        break\n",
    "    count += 1"
   ]
  },
  {
   "cell_type": "code",
   "execution_count": null,
   "metadata": {},
   "outputs": [],
   "source": []
  }
 ],
 "metadata": {
  "kernelspec": {
   "display_name": "Python 3",
   "language": "python",
   "name": "python3"
  },
  "language_info": {
   "codemirror_mode": {
    "name": "ipython",
    "version": 3
   },
   "file_extension": ".py",
   "mimetype": "text/x-python",
   "name": "python",
   "nbconvert_exporter": "python",
   "pygments_lexer": "ipython3",
   "version": "3.6.0"
  }
 },
 "nbformat": 4,
 "nbformat_minor": 2
}
