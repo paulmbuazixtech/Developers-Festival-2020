{
 "cells": [
  {
   "cell_type": "markdown",
   "metadata": {},
   "source": [
    "# Nested Loops\n",
    "\n",
    "**Let's build some boxes!**\n",
    "\n",
    "_A 4x4 Box using the char `*`_:\n",
    "```python\n",
    "****\n",
    "****\n",
    "****\n",
    "****\n",
    "```\n",
    "\n",
    "_A 3x3 Box using the char `x`_:\n",
    "```python\n",
    "xxx\n",
    "xxx\n",
    "xxx\n",
    "```\n",
    "\n",
    "_A 1x1 Box using the char 0_:\n",
    "```python\n",
    "0\n",
    "```"
   ]
  },
  {
   "cell_type": "code",
   "execution_count": 3,
   "metadata": {},
   "outputs": [
    {
     "name": "stdout",
     "output_type": "stream",
     "text": [
      "\n",
      "****\n",
      "****\n",
      "****\n",
      "****\n",
      "\n"
     ]
    }
   ],
   "source": [
    "s = \"\"\"\n",
    "****\n",
    "****\n",
    "****\n",
    "****\n",
    "\"\"\"\n",
    "print(s)"
   ]
  },
  {
   "cell_type": "code",
   "execution_count": 6,
   "metadata": {},
   "outputs": [
    {
     "name": "stdout",
     "output_type": "stream",
     "text": [
      "****\n",
      "****\n",
      "****\n",
      "****\n",
      "\n"
     ]
    }
   ],
   "source": [
    "box = \"\"\n",
    "box += \"****\\n\"\n",
    "box += \"****\\n\"\n",
    "box += \"****\\n\"\n",
    "box += \"****\\n\"\n",
    "\n",
    "print(box)"
   ]
  },
  {
   "cell_type": "code",
   "execution_count": 7,
   "metadata": {},
   "outputs": [
    {
     "name": "stdout",
     "output_type": "stream",
     "text": [
      "****\n",
      "****\n",
      "****\n",
      "****\n",
      "\n"
     ]
    }
   ],
   "source": [
    "box = \"\"\n",
    "for i in range(4):\n",
    "    box += \"****\\n\"\n",
    "\n",
    "print(box)"
   ]
  },
  {
   "cell_type": "code",
   "execution_count": 14,
   "metadata": {},
   "outputs": [
    {
     "name": "stdout",
     "output_type": "stream",
     "text": [
      "****\n"
     ]
    }
   ],
   "source": [
    "row = \"\"\n",
    "for i in range(4):\n",
    "    row += \"*\"\n",
    "print(row)"
   ]
  },
  {
   "cell_type": "code",
   "execution_count": 16,
   "metadata": {},
   "outputs": [
    {
     "name": "stdout",
     "output_type": "stream",
     "text": [
      "****\n",
      "****\n",
      "****\n",
      "****\n",
      "\n"
     ]
    },
    {
     "data": {
      "text/plain": [
       "16"
      ]
     },
     "execution_count": 16,
     "metadata": {},
     "output_type": "execute_result"
    }
   ],
   "source": [
    "rows = 4\n",
    "cols = 4\n",
    "\n",
    "box = \"\"\n",
    "for _ in range(rows):\n",
    "    row = \"\"\n",
    "    for _ in range(cols):\n",
    "        row += \"*\"\n",
    "        for z in range(var):\n",
    "            pass\n",
    "    row += \"\\n\"\n",
    "    box += row\n",
    "\n",
    "print(box)\n",
    "\n",
    "4 * 4 * var"
   ]
  }
 ],
 "metadata": {
  "kernelspec": {
   "display_name": "Python 3",
   "language": "python",
   "name": "python3"
  },
  "language_info": {
   "codemirror_mode": {
    "name": "ipython",
    "version": 3
   },
   "file_extension": ".py",
   "mimetype": "text/x-python",
   "name": "python",
   "nbconvert_exporter": "python",
   "pygments_lexer": "ipython3",
   "version": "3.6.0"
  }
 },
 "nbformat": 4,
 "nbformat_minor": 2
}
