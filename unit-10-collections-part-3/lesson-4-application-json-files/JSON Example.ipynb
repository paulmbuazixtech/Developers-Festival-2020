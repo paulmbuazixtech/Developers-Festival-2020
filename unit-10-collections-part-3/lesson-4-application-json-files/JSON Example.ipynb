{
 "cells": [
  {
   "cell_type": "markdown",
   "metadata": {},
   "source": [
    "# JSON Example"
   ]
  },
  {
   "cell_type": "code",
   "execution_count": 1,
   "metadata": {},
   "outputs": [],
   "source": [
    "json_string = \"\"\"\n",
    "{\n",
    "    \"id\": \"0001\",\n",
    "    \"type\": \"donut\",\n",
    "    \"name\": \"Cake\",\n",
    "    \"ppu\": 0.55,\n",
    "    \"batters\":\n",
    "        {\n",
    "            \"batter\":\n",
    "                [\n",
    "                    { \"id\": \"1001\", \"type\": \"Regular\" },\n",
    "                    { \"id\": \"1002\", \"type\": \"Chocolate\" },\n",
    "                    { \"id\": \"1003\", \"type\": \"Blueberry\" },\n",
    "                    { \"id\": \"1004\", \"type\": \"Devil's Food\" }\n",
    "                ]\n",
    "        },\n",
    "    \"topping\":\n",
    "        [\n",
    "            { \"id\": \"5001\", \"type\": \"None\" },\n",
    "            { \"id\": \"5002\", \"type\": \"Glazed\" },\n",
    "            { \"id\": \"5005\", \"type\": \"Sugar\" },\n",
    "            { \"id\": \"5007\", \"type\": \"Powdered Sugar\" },\n",
    "            { \"id\": \"5006\", \"type\": \"Chocolate with Sprinkles\" },\n",
    "            { \"id\": \"5003\", \"type\": \"Chocolate\" },\n",
    "            { \"id\": \"5004\", \"type\": \"Maple\" }\n",
    "        ]\n",
    "}\n",
    "\"\"\""
   ]
  },
  {
   "cell_type": "code",
   "execution_count": 2,
   "metadata": {},
   "outputs": [],
   "source": [
    "import json"
   ]
  },
  {
   "cell_type": "code",
   "execution_count": 3,
   "metadata": {},
   "outputs": [],
   "source": [
    "data = json.loads(json_string)"
   ]
  },
  {
   "cell_type": "code",
   "execution_count": 9,
   "metadata": {},
   "outputs": [
    {
     "data": {
      "text/plain": [
       "list"
      ]
     },
     "execution_count": 9,
     "metadata": {},
     "output_type": "execute_result"
    }
   ],
   "source": [
    "type(data['topping'])"
   ]
  },
  {
   "cell_type": "code",
   "execution_count": 10,
   "metadata": {},
   "outputs": [
    {
     "data": {
      "text/plain": [
       "[{'id': '5001', 'type': 'None'},\n",
       " {'id': '5002', 'type': 'Glazed'},\n",
       " {'id': '5005', 'type': 'Sugar'},\n",
       " {'id': '5007', 'type': 'Powdered Sugar'},\n",
       " {'id': '5006', 'type': 'Chocolate with Sprinkles'},\n",
       " {'id': '5003', 'type': 'Chocolate'},\n",
       " {'id': '5004', 'type': 'Maple'}]"
      ]
     },
     "execution_count": 10,
     "metadata": {},
     "output_type": "execute_result"
    }
   ],
   "source": [
    "data['topping']"
   ]
  },
  {
   "cell_type": "code",
   "execution_count": 11,
   "metadata": {},
   "outputs": [
    {
     "data": {
      "text/plain": [
       "{'id': '5001', 'type': 'None'}"
      ]
     },
     "execution_count": 11,
     "metadata": {},
     "output_type": "execute_result"
    }
   ],
   "source": [
    "data['topping'][0]"
   ]
  },
  {
   "cell_type": "code",
   "execution_count": 12,
   "metadata": {},
   "outputs": [
    {
     "name": "stdout",
     "output_type": "stream",
     "text": [
      "5001\n",
      "5002\n",
      "5005\n",
      "5007\n",
      "5006\n",
      "5003\n",
      "5004\n"
     ]
    }
   ],
   "source": [
    "for topping in data['topping']:\n",
    "    print(topping['id'])"
   ]
  },
  {
   "cell_type": "code",
   "execution_count": null,
   "metadata": {},
   "outputs": [],
   "source": []
  }
 ],
 "metadata": {
  "kernelspec": {
   "display_name": "Python 3",
   "language": "python",
   "name": "python3"
  },
  "language_info": {
   "codemirror_mode": {
    "name": "ipython",
    "version": 3
   },
   "file_extension": ".py",
   "mimetype": "text/x-python",
   "name": "python",
   "nbconvert_exporter": "python",
   "pygments_lexer": "ipython3",
   "version": "3.6.0"
  }
 },
 "nbformat": 4,
 "nbformat_minor": 2
}
