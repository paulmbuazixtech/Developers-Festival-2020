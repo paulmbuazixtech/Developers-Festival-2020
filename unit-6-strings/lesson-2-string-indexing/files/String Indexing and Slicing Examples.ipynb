{
 "cells": [
  {
   "cell_type": "markdown",
   "metadata": {},
   "source": [
    "# String Indexing and Slicing Examples"
   ]
  },
  {
   "cell_type": "code",
   "execution_count": 1,
   "metadata": {},
   "outputs": [],
   "source": [
    "s = \"ABCDEFG\""
   ]
  },
  {
   "cell_type": "markdown",
   "metadata": {},
   "source": [
    "**Regular Indexes**"
   ]
  },
  {
   "cell_type": "code",
   "execution_count": 3,
   "metadata": {},
   "outputs": [
    {
     "name": "stdout",
     "output_type": "stream",
     "text": [
      "s[0] = A\n",
      "s[2] = C\n"
     ]
    }
   ],
   "source": [
    "print(\"s[0] = %s\" % s[0])\n",
    "print(\"s[2] = %s\" % s[2])"
   ]
  },
  {
   "cell_type": "markdown",
   "metadata": {},
   "source": [
    "**Negative Indexes**"
   ]
  },
  {
   "cell_type": "code",
   "execution_count": 4,
   "metadata": {},
   "outputs": [
    {
     "name": "stdout",
     "output_type": "stream",
     "text": [
      "s[6]   = G\n",
      "s[-1]  = G\n",
      "---\n",
      "s[5]   = F\n",
      "s[-2]  = F\n",
      "---\n",
      "s[0]   = A\n",
      "s[-7]  = A\n"
     ]
    }
   ],
   "source": [
    "print(\"s[6]   = %s\" % s[6])\n",
    "print(\"s[-1]  = %s\" % s[-1])\n",
    "print(\"---\")\n",
    "print(\"s[5]   = %s\" % s[5])\n",
    "print(\"s[-2]  = %s\" % s[-2])\n",
    "print(\"---\")\n",
    "print(\"s[0]   = %s\" % s[0])\n",
    "print(\"s[-7]  = %s\" % s[-7])"
   ]
  },
  {
   "cell_type": "markdown",
   "metadata": {},
   "source": [
    "**Slices**"
   ]
  },
  {
   "cell_type": "code",
   "execution_count": 8,
   "metadata": {},
   "outputs": [
    {
     "name": "stdout",
     "output_type": "stream",
     "text": [
      "s[0:3] = ABC\n",
      "s[:3]  = ABC\n",
      "s[1:3] = BC\n"
     ]
    }
   ],
   "source": [
    "print(\"s[0:3] = %s\" % s[0:3])\n",
    "print(\"s[:3]  = %s\" % s[:3])\n",
    "print(\"s[1:3] = %s\" % s[1:3])"
   ]
  },
  {
   "cell_type": "code",
   "execution_count": 9,
   "metadata": {},
   "outputs": [
    {
     "name": "stdout",
     "output_type": "stream",
     "text": [
      "s[2:len(s) + 1] = CDEFG\n",
      "s[2:]           = CDEFG\n",
      "s[:]            = ABCDEFG\n"
     ]
    }
   ],
   "source": [
    "print(\"s[2:len(s) + 1] = %s\" % s[2:len(s) + 1])\n",
    "print(\"s[2:]           = %s\" % s[2:])\n",
    "print(\"s[:]            = %s\" % s[:])"
   ]
  },
  {
   "cell_type": "code",
   "execution_count": 10,
   "metadata": {},
   "outputs": [
    {
     "name": "stdout",
     "output_type": "stream",
     "text": [
      "s[1:7:2] = BDF \n",
      "s[::2]   = ACEG \n"
     ]
    }
   ],
   "source": [
    "print(\"s[1:7:2] = %s \" % s[1:7:2])\n",
    "print(\"s[::2]   = %s \" % s[::2])"
   ]
  },
  {
   "cell_type": "code",
   "execution_count": null,
   "metadata": {},
   "outputs": [],
   "source": []
  }
 ],
 "metadata": {
  "kernelspec": {
   "display_name": "Python 3",
   "language": "python",
   "name": "python3"
  },
  "language_info": {
   "codemirror_mode": {
    "name": "ipython",
    "version": 3
   },
   "file_extension": ".py",
   "mimetype": "text/x-python",
   "name": "python",
   "nbconvert_exporter": "python",
   "pygments_lexer": "ipython3",
   "version": "3.6.0"
  }
 },
 "nbformat": 4,
 "nbformat_minor": 2
}
