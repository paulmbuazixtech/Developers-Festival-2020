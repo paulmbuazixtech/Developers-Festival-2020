{
 "cells": [
  {
   "cell_type": "markdown",
   "metadata": {},
   "source": [
    "# String Formatting\n",
    "\n",
    "It's a simple way to combine a fixed/static piece of text, with some dynamically generated data. For example, a user registers in your website and you want to send her an email with a customized subject containing her name.\n",
    "Example: **\"Welcome to our service Mary!\"**. In that case, _\"Welcome to our service\"_ is \"fixed\", it'll not change depending the user. But the user's first name (_\"Mary\"_) in this case will be different for each user. So, we have to combine both parts of the message.\n",
    "\n",
    "String formatting in Python is simple and extremely powerful. There are (mainly) two ways of doing it:\n",
    "\n",
    "* Old Style: using a `%` sing\n",
    "* New style: using curly braces (`{}`) and `.format()`. **(PREFERRED WAY)**\n",
    "\n",
    "(There's a third way called [Formatted string literals or Literal String Interpolation](https://www.python.org/dev/peps/pep-0498/) which we won't cover right now.\n",
    "\n",
    "**The preferred way is the new style of formatting, using `{}` and `.format()`**."
   ]
  },
  {
   "cell_type": "markdown",
   "metadata": {},
   "source": [
    "### Example using Old Style format\n",
    "\n",
    "Each placeholder is specified with the percentage symbol (`%`) plus a data type, generally `%s`:"
   ]
  },
  {
   "cell_type": "code",
   "execution_count": 3,
   "metadata": {},
   "outputs": [
    {
     "name": "stdout",
     "output_type": "stream",
     "text": [
      "Welcome to our service Mary!\n"
     ]
    }
   ],
   "source": [
    "message_template = \"Welcome to our service %s!\"\n",
    "name = \"Mary\"\n",
    "\n",
    "full_message = message_template % name\n",
    "print(full_message)"
   ]
  },
  {
   "cell_type": "markdown",
   "metadata": {},
   "source": [
    "If you have more than one pieces of data to format, you'll need to use a tuple:"
   ]
  },
  {
   "cell_type": "code",
   "execution_count": 2,
   "metadata": {},
   "outputs": [
    {
     "name": "stdout",
     "output_type": "stream",
     "text": [
      "Today is Tuesday, January 2\n",
      "Today is Tuesday, Jan. 2\n"
     ]
    }
   ],
   "source": [
    "day = \"Tuesday\"\n",
    "month = \"January\"\n",
    "number = 2\n",
    "\n",
    "msg1 = \"Today is %s, %s %s\" % (day, month, number)\n",
    "\n",
    "# You can also pass strings directly:\n",
    "msg2 = \"Today is %s, %s %s\" % (\"Tuesday\", \"Jan.\", 2)\n",
    "\n",
    "print(msg1)\n",
    "print(msg2)"
   ]
  },
  {
   "cell_type": "markdown",
   "metadata": {},
   "source": [
    "### New Style Formatting. Preferred option.\n",
    "\n",
    "New style formatting is powerful and expressive. Placeholders are specified with curly braces (`{}`) and the final message is created with the `.format()` method of the template string. Examples:"
   ]
  },
  {
   "cell_type": "code",
   "execution_count": 4,
   "metadata": {},
   "outputs": [
    {
     "name": "stdout",
     "output_type": "stream",
     "text": [
      "Welcome to our service Mary!\n"
     ]
    }
   ],
   "source": [
    "message_template = \"Welcome to our service {}!\"\n",
    "name = \"Mary\"\n",
    "\n",
    "full_message = message_template.format(name)\n",
    "\n",
    "# Which is the same as:\n",
    "full_message = \"Welcome to our service {}!\".format(\"Mary\")\n",
    "\n",
    "print(full_message)"
   ]
  },
  {
   "cell_type": "markdown",
   "metadata": {},
   "source": [
    "You can also give \"names\" to the placeholders, to make it a little bit more readable. Example:"
   ]
  },
  {
   "cell_type": "code",
   "execution_count": 5,
   "metadata": {},
   "outputs": [
    {
     "name": "stdout",
     "output_type": "stream",
     "text": [
      "Today is Tuesday, January, 2\n",
      "Today is Tuesday, January, 2\n"
     ]
    }
   ],
   "source": [
    "day = \"Tuesday\"\n",
    "month = \"January\"\n",
    "number = 2\n",
    "\n",
    "msg1 = \"Today is {day}, {month}, {num}\".format(day=day, month=month, num=number)\n",
    "\n",
    "# You can also pass strings directly:\n",
    "msg2 = \"Today is {day}, {month}, {num}\".format(day=\"Tuesday\", month=\"January\", num=2)\n",
    "\n",
    "print(msg1)\n",
    "print(msg2)"
   ]
  },
  {
   "cell_type": "markdown",
   "metadata": {},
   "source": [
    "**String Padding and aligning**\n",
    "\n",
    "Useful to create beautiful messages in your console. Examples:"
   ]
  },
  {
   "cell_type": "code",
   "execution_count": 9,
   "metadata": {},
   "outputs": [
    {
     "name": "stdout",
     "output_type": "stream",
     "text": [
      "\"         Python\"\n",
      "\"    Python     \"\n",
      "\"Python         \"\n"
     ]
    }
   ],
   "source": [
    "# Right Align (padding left)\n",
    "right = '\"{:>15}\"'.format('Python')\n",
    "print(right)\n",
    "\n",
    "# Center Align (padding left and right)\n",
    "center = '\"{:^15}\"'.format('Python')\n",
    "print(center)\n",
    "\n",
    "# Left Align (padding right)\n",
    "left = '\"{:<15}\"'.format('Python')\n",
    "print(left)"
   ]
  },
  {
   "cell_type": "markdown",
   "metadata": {},
   "source": [
    "By default, you data is padded with whitespaces. But you can also select a different character to be used:"
   ]
  },
  {
   "cell_type": "code",
   "execution_count": 10,
   "metadata": {},
   "outputs": [
    {
     "name": "stdout",
     "output_type": "stream",
     "text": [
      "\"=========Python\"\n",
      "\"####Python#####\"\n",
      "\"Python.........\"\n"
     ]
    }
   ],
   "source": [
    "right = '\"{:=>15}\"'.format('Python')\n",
    "print(right)\n",
    "\n",
    "center = '\"{:#^15}\"'.format('Python')\n",
    "print(center)\n",
    "\n",
    "left = '\"{:.<15}\"'.format('Python')\n",
    "print(left)"
   ]
  },
  {
   "cell_type": "markdown",
   "metadata": {},
   "source": [
    "### Formatting decimals/floats\n",
    "\n",
    "Correctly formatting numbers (specially floats/decimals) is always tricky. `.format()` provides a clean and intuitive interface for that. Your placeholder is going to look something like: `{:06.2f}`, where:\n",
    "\n",
    "* `6` is the mininmum number of characters displayed.\n",
    "* `0` is the padding number used. If not provided, whitespaces are going to be used.\n",
    "* `.2` are the number of decimals used.\n",
    "* `f` indicates that the data to replace should be number (float, decimal, int).\n",
    "\n",
    "Examples:"
   ]
  },
  {
   "cell_type": "code",
   "execution_count": 11,
   "metadata": {},
   "outputs": [],
   "source": [
    "phi = 1.618033\n"
   ]
  },
  {
   "cell_type": "code",
   "execution_count": 13,
   "metadata": {},
   "outputs": [
    {
     "name": "stdout",
     "output_type": "stream",
     "text": [
      "001.62\n"
     ]
    }
   ],
   "source": [
    "# Left padded with 0. 6 is the minimum number of digits\n",
    "print(\"{:06.2f}\".format(phi))"
   ]
  },
  {
   "cell_type": "code",
   "execution_count": 14,
   "metadata": {},
   "outputs": [
    {
     "name": "stdout",
     "output_type": "stream",
     "text": [
      "1.62\n"
     ]
    }
   ],
   "source": [
    "# Left padded with 0. 3 is the minimum number of digits\n",
    "print(\"{:03.2f}\".format(phi))"
   ]
  },
  {
   "cell_type": "code",
   "execution_count": 16,
   "metadata": {},
   "outputs": [
    {
     "name": "stdout",
     "output_type": "stream",
     "text": [
      "\"  1.62\"\n"
     ]
    }
   ],
   "source": [
    "# Left padded with whitespaces. 6 is the minimum number of digits\n",
    "print('\"{:6.2f}\"'.format(phi))"
   ]
  },
  {
   "cell_type": "code",
   "execution_count": 21,
   "metadata": {},
   "outputs": [
    {
     "name": "stdout",
     "output_type": "stream",
     "text": [
      "1.6180\n"
     ]
    }
   ],
   "source": [
    "# More decimals\n",
    "print(\"{:3.4f}\".format(phi))"
   ]
  },
  {
   "cell_type": "code",
   "execution_count": 22,
   "metadata": {},
   "outputs": [
    {
     "name": "stdout",
     "output_type": "stream",
     "text": [
      "1.6180\n"
     ]
    }
   ],
   "source": [
    "# Using named parameters\n",
    "print(\"{golden_ratio:3.4f}\".format(golden_ratio=phi))"
   ]
  },
  {
   "cell_type": "code",
   "execution_count": null,
   "metadata": {},
   "outputs": [],
   "source": []
  }
 ],
 "metadata": {
  "kernelspec": {
   "display_name": "Python 3",
   "language": "python",
   "name": "python3"
  },
  "language_info": {
   "codemirror_mode": {
    "name": "ipython",
    "version": 3
   },
   "file_extension": ".py",
   "mimetype": "text/x-python",
   "name": "python",
   "nbconvert_exporter": "python",
   "pygments_lexer": "ipython3",
   "version": "3.6.0"
  }
 },
 "nbformat": 4,
 "nbformat_minor": 2
}
