{
 "cells": [
  {
   "cell_type": "markdown",
   "metadata": {},
   "source": [
    "# Introduction to Python Lists\n",
    "\n",
    "Lists are the most commonly used Python collection. You'll find lists (or similar types of collections) in EVERY other programming language. Sometimes they're called arrays, sometimes \"linked lists\". They are all fundamentally similar.\n",
    "\n",
    "Lists (and other collections) are used to store _collections_ (sorry, captain obvious) of elements. Whenever you want to store several occurrences of a given entity, you'll use a collection. Python lists are created using square brackets (`[]`). Examples:"
   ]
  },
  {
   "cell_type": "code",
   "execution_count": 1,
   "metadata": {},
   "outputs": [
    {
     "name": "stdout",
     "output_type": "stream",
     "text": [
      "['John Doe', 'Jane Doe', 'Mary Smith']\n"
     ]
    }
   ],
   "source": [
    "l = ['John Doe', 'Jane Doe', 'Mary Smith']\n",
    "print(l)"
   ]
  },
  {
   "cell_type": "markdown",
   "metadata": {},
   "source": [
    "In the previous example, we've just created a list contaning three elements (three strings) and we've assigned the variable `l` to point to it.\n",
    "\n",
    "We'll now explore the most important properties of Python lists. Future lessons will show you more advanced operations using lists."
   ]
  },
  {
   "cell_type": "markdown",
   "metadata": {},
   "source": [
    "### Heterogeneous\n",
    "\n",
    "All Python collections are heterogeneous; that means, you can store any type of value that you want in them:"
   ]
  },
  {
   "cell_type": "code",
   "execution_count": 2,
   "metadata": {},
   "outputs": [
    {
     "name": "stdout",
     "output_type": "stream",
     "text": [
      "['Hello', 3, True, 2.5]\n"
     ]
    }
   ],
   "source": [
    "my_list = [\"Hello\", 3, True, 2.5]\n",
    "print(my_list)"
   ]
  },
  {
   "cell_type": "markdown",
   "metadata": {},
   "source": [
    "As you can see in the previous example, we can mix strings, with integers or booleans in the same Python list. You can store any type of object in a list (even other lists 😱).\n",
    "\n",
    "**Even though we \\*CAN\\* store any type of element, it doesn't mean we \\*SHOULD\\* do it. Mixing different types of elements in a list makes our less predictable and errors are more likely to occur.**\n",
    "\n",
    "We're obligated to tell you that lists don't have a limitation of types, but you'll see that good code will keep consistent the data types used in collections."
   ]
  },
  {
   "cell_type": "markdown",
   "metadata": {},
   "source": [
    "### Ordered\n",
    "\n",
    "Lists are _ordered sequences_. That means that they'll \"remember\" the order that you chose for the elements. If we create a list with `\"John\"` first and `\"Jane\"` second, that order will be preserved:"
   ]
  },
  {
   "cell_type": "code",
   "execution_count": 3,
   "metadata": {},
   "outputs": [
    {
     "data": {
      "text/plain": [
       "['John Doe', 'Jane Doe']"
      ]
     },
     "execution_count": 3,
     "metadata": {},
     "output_type": "execute_result"
    }
   ],
   "source": [
    "['John Doe', 'Jane Doe']"
   ]
  },
  {
   "cell_type": "markdown",
   "metadata": {},
   "source": [
    "The concept of \"order\" is very important for lists and sequences, and we'll be used in the future. For example, whenever we need to add elements to a list, we'll need to specify the position: \"add at the end (`append`)\", \"add at the beginning\", etc.\n",
    "\n",
    "We know that this _\"ordered\"_ trait might sound a little bit obvious. But if we're mention it, is because you'll see later that other collections will **NOT** respect order.\n",
    "\n",
    "Finally, **Ordered != Sorted**. This property refers only to the \"order\" that you chose to create your elements. It doesn't mean they'll be \"sorted\". Example, order is respected, but (obviously) not sorted:"
   ]
  },
  {
   "cell_type": "code",
   "execution_count": 5,
   "metadata": {},
   "outputs": [
    {
     "name": "stdout",
     "output_type": "stream",
     "text": [
      "['t', 'c', 'a', 's', 'd']\n"
     ]
    }
   ],
   "source": [
    "l = ['t', 'c', 'a', 's', 'd']\n",
    "print(l)"
   ]
  },
  {
   "cell_type": "markdown",
   "metadata": {},
   "source": [
    "### Mutable\n",
    "\n",
    "You'll be able to change (_mutate_) lists: add, remove or update elements.\n",
    "\n",
    "As I mentioned before, if we're pointing out this trait, is because you'll see other collections that will be immutable (you won't be able to change them).\n",
    "\n",
    "Example:"
   ]
  },
  {
   "cell_type": "code",
   "execution_count": 7,
   "metadata": {},
   "outputs": [
    {
     "name": "stdout",
     "output_type": "stream",
     "text": [
      "['a', 'b', 'c']\n",
      "['a', 'c']\n"
     ]
    }
   ],
   "source": [
    "l = ['a', 'b', 'c']\n",
    "print(l)\n",
    "\n",
    "l.remove('b')\n",
    "print(l)"
   ]
  },
  {
   "cell_type": "markdown",
   "metadata": {},
   "source": [
    "The following lessons will show you how to add/remove/update elements, read/access those elements and perform different operations with lists."
   ]
  },
  {
   "cell_type": "code",
   "execution_count": 1,
   "metadata": {},
   "outputs": [
    {
     "data": {
      "text/plain": [
       "3"
      ]
     },
     "execution_count": 1,
     "metadata": {},
     "output_type": "execute_result"
    }
   ],
   "source": [
    "l = ['a', 'b', 'c']\n",
    "\n",
    "len(l)"
   ]
  }
 ],
 "metadata": {
  "kernelspec": {
   "display_name": "Python 3",
   "language": "python",
   "name": "python3"
  },
  "language_info": {
   "codemirror_mode": {
    "name": "ipython",
    "version": 3
   },
   "file_extension": ".py",
   "mimetype": "text/x-python",
   "name": "python",
   "nbconvert_exporter": "python",
   "pygments_lexer": "ipython3",
   "version": "3.6.0"
  }
 },
 "nbformat": 4,
 "nbformat_minor": 2
}
