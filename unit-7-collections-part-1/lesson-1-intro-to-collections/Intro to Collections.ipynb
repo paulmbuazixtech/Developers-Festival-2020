{
 "cells": [
  {
   "cell_type": "markdown",
   "metadata": {},
   "source": [
    "# Intro to Collections"
   ]
  },
  {
   "cell_type": "code",
   "execution_count": 1,
   "metadata": {},
   "outputs": [
    {
     "name": "stdout",
     "output_type": "stream",
     "text": [
      "['johndoe', 'janedoe', 'marysmith']\n"
     ]
    }
   ],
   "source": [
    "users = ['johndoe', 'janedoe', 'marysmith']\n",
    "print(users)"
   ]
  },
  {
   "cell_type": "code",
   "execution_count": 2,
   "metadata": {},
   "outputs": [
    {
     "name": "stdout",
     "output_type": "stream",
     "text": [
      "{'jane@gmail.com', 'mary@gmail.com', 'john@gmail.com'}\n"
     ]
    }
   ],
   "source": [
    "emails = {'john@gmail.com', 'jane@gmail.com', 'mary@gmail.com'}\n",
    "print(emails)"
   ]
  },
  {
   "cell_type": "code",
   "execution_count": 3,
   "metadata": {},
   "outputs": [
    {
     "name": "stdout",
     "output_type": "stream",
     "text": [
      "{'first_name': 'Jane', 'last_name': 'Doe', 'email': 'jane@gmail.com'}\n"
     ]
    }
   ],
   "source": [
    "user = {\n",
    "    'first_name': 'Jane',\n",
    "    'last_name': 'Doe',\n",
    "    'email': 'jane@gmail.com'\n",
    "}\n",
    "print(user)"
   ]
  },
  {
   "cell_type": "code",
   "execution_count": 4,
   "metadata": {},
   "outputs": [
    {
     "name": "stdout",
     "output_type": "stream",
     "text": [
      "(3, 5, 12)\n"
     ]
    }
   ],
   "source": [
    "coordinates = (3, 5, 12)\n",
    "print(coordinates)"
   ]
  },
  {
   "cell_type": "code",
   "execution_count": null,
   "metadata": {},
   "outputs": [],
   "source": []
  }
 ],
 "metadata": {
  "kernelspec": {
   "display_name": "Python 3",
   "language": "python",
   "name": "python3"
  },
  "language_info": {
   "codemirror_mode": {
    "name": "ipython",
    "version": 3
   },
   "file_extension": ".py",
   "mimetype": "text/x-python",
   "name": "python",
   "nbconvert_exporter": "python",
   "pygments_lexer": "ipython3",
   "version": "3.6.0"
  }
 },
 "nbformat": 4,
 "nbformat_minor": 2
}
