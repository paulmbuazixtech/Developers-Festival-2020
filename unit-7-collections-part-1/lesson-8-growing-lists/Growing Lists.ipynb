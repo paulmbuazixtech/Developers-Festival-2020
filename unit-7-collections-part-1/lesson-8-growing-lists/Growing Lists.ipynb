{
 "cells": [
  {
   "cell_type": "markdown",
   "metadata": {},
   "source": [
    "# Growing Lists"
   ]
  },
  {
   "cell_type": "markdown",
   "metadata": {},
   "source": [
    "### `append`\n",
    "\n",
    "Add elements at the end."
   ]
  },
  {
   "cell_type": "code",
   "execution_count": 1,
   "metadata": {},
   "outputs": [
    {
     "name": "stdout",
     "output_type": "stream",
     "text": [
      "['john', 'jane', 'mary']\n"
     ]
    }
   ],
   "source": [
    "l = []\n",
    "l.append('john')\n",
    "l.append('jane')\n",
    "l.append('mary')\n",
    "\n",
    "print(l)"
   ]
  },
  {
   "cell_type": "markdown",
   "metadata": {},
   "source": [
    "### `insert`\n",
    "\n",
    "Insert an element in a given position."
   ]
  },
  {
   "cell_type": "code",
   "execution_count": 2,
   "metadata": {},
   "outputs": [
    {
     "name": "stdout",
     "output_type": "stream",
     "text": [
      "['mary', 'jane', 'john']\n"
     ]
    }
   ],
   "source": [
    "l = []\n",
    "l.insert(0, 'john')\n",
    "l.insert(0, 'jane')\n",
    "l.insert(0, 'mary')\n",
    "\n",
    "print(l)"
   ]
  },
  {
   "cell_type": "code",
   "execution_count": 12,
   "metadata": {},
   "outputs": [
    {
     "name": "stdout",
     "output_type": "stream",
     "text": [
      "['john', 'mary', 'jane']\n"
     ]
    }
   ],
   "source": [
    "l = ['john', 'jane']\n",
    "l.insert(1, 'mary')\n",
    "print(l)"
   ]
  },
  {
   "cell_type": "code",
   "execution_count": 16,
   "metadata": {},
   "outputs": [
    {
     "name": "stdout",
     "output_type": "stream",
     "text": [
      "['john', 'jane', 'mary']\n"
     ]
    }
   ],
   "source": [
    "l = ['john', 'jane']\n",
    "\n",
    "l.insert(len(l), 'mary')  # l.append('mary')\n",
    "\n",
    "print(l)"
   ]
  },
  {
   "cell_type": "markdown",
   "metadata": {},
   "source": [
    "### `extend`\n",
    "\n",
    "Insert elements from another list."
   ]
  },
  {
   "cell_type": "code",
   "execution_count": 5,
   "metadata": {},
   "outputs": [
    {
     "name": "stdout",
     "output_type": "stream",
     "text": [
      "['john', 'jane', 'mary', 'robert']\n"
     ]
    }
   ],
   "source": [
    "users_1 = ['john', 'jane']\n",
    "users_2 = ['mary', 'robert']\n",
    "\n",
    "users_1.extend(users_2)\n",
    "\n",
    "print(users_1)"
   ]
  },
  {
   "cell_type": "markdown",
   "metadata": {},
   "source": [
    "### Concatenation (`+`)\n",
    "\n",
    "Using the `+` operator to _add_ two lists together. **IMMUTABLE**"
   ]
  },
  {
   "cell_type": "code",
   "execution_count": 8,
   "metadata": {},
   "outputs": [
    {
     "name": "stdout",
     "output_type": "stream",
     "text": [
      "['john', 'jane', 'mary', 'robert']\n"
     ]
    }
   ],
   "source": [
    "users_1 = ['john', 'jane']\n",
    "users_2 = ['mary', 'robert']\n",
    "\n",
    "resulting_list = users_1 + users_2\n",
    "\n",
    "print(resulting_list)"
   ]
  },
  {
   "cell_type": "markdown",
   "metadata": {},
   "source": [
    "### Assignment operator (`+=`)\n",
    "\n",
    "Similar to extend, insert elements from another list, in place."
   ]
  },
  {
   "cell_type": "code",
   "execution_count": 10,
   "metadata": {},
   "outputs": [
    {
     "data": {
      "text/plain": [
       "['john', 'jane', 'mary', 'robert']"
      ]
     },
     "execution_count": 10,
     "metadata": {},
     "output_type": "execute_result"
    }
   ],
   "source": [
    "users_1 = ['john', 'jane']\n",
    "users_2 = ['mary', 'robert']\n",
    "\n",
    "users_1 += users_2\n",
    "\n",
    "print(users_1)"
   ]
  }
 ],
 "metadata": {
  "kernelspec": {
   "display_name": "Python 3",
   "language": "python",
   "name": "python3"
  },
  "language_info": {
   "codemirror_mode": {
    "name": "ipython",
    "version": 3
   },
   "file_extension": ".py",
   "mimetype": "text/x-python",
   "name": "python",
   "nbconvert_exporter": "python",
   "pygments_lexer": "ipython3",
   "version": "3.6.0"
  }
 },
 "nbformat": 4,
 "nbformat_minor": 2
}
