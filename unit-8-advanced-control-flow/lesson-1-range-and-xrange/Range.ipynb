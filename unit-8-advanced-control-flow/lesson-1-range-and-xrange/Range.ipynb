{
 "cells": [
  {
   "cell_type": "markdown",
   "metadata": {},
   "source": [
    "### Understanding `range()`\n",
    "\n",
    "Sometimes you don't need to iterate over a collection; but just a given number of times. For example, repeat 3 times a query to a database. Or perform 5 attempts to create a user. Your objective is to repeat something X times.\n",
    "\n",
    "Technically, there's no _collection_ or _sequence_ involved, so given what we've learned up to this point, you could use a while loop.\n",
    "\n",
    "Example: _Print `\"Hello World\"` 3 times._"
   ]
  },
  {
   "cell_type": "code",
   "execution_count": 1,
   "metadata": {},
   "outputs": [
    {
     "name": "stdout",
     "output_type": "stream",
     "text": [
      "Hello World\n",
      "Hello World\n",
      "Hello World\n"
     ]
    }
   ],
   "source": [
    "i = 0\n",
    "while i < 3:\n",
    "    print(\"Hello World\")\n",
    "    i += 1"
   ]
  },
  {
   "cell_type": "markdown",
   "metadata": {},
   "source": [
    "But we know the problems of while loops, like the problem of infinite loops, and thinking about the condition, etc. **_There should be a better way._** And there is...\n",
    "\n",
    "If we need to iterate 3 times, we could create a _dummy_ collection with only 3 elements and iterate over it. We'd not care about the elements in the collection, we just need them to be three:"
   ]
  },
  {
   "cell_type": "code",
   "execution_count": 2,
   "metadata": {},
   "outputs": [
    {
     "name": "stdout",
     "output_type": "stream",
     "text": [
      "Hello World\n",
      "Hello World\n",
      "Hello World\n"
     ]
    }
   ],
   "source": [
    "l = [1, 1, 1]\n",
    "for elem in l:\n",
    "    print(\"Hello World\")"
   ]
  },
  {
   "cell_type": "code",
   "execution_count": 3,
   "metadata": {},
   "outputs": [
    {
     "name": "stdout",
     "output_type": "stream",
     "text": [
      "Hello World\n",
      "Hello World\n",
      "Hello World\n"
     ]
    }
   ],
   "source": [
    "l = [None, None, None]\n",
    "for elem in l:\n",
    "    print(\"Hello World\")"
   ]
  },
  {
   "cell_type": "markdown",
   "metadata": {},
   "source": [
    "We could even use strings:"
   ]
  },
  {
   "cell_type": "code",
   "execution_count": 4,
   "metadata": {},
   "outputs": [
    {
     "name": "stdout",
     "output_type": "stream",
     "text": [
      "Hello World\n",
      "Hello World\n",
      "Hello World\n"
     ]
    }
   ],
   "source": [
    "for elem in 'XYZ':\n",
    "    print(\"Hello World\")"
   ]
  },
  {
   "cell_type": "markdown",
   "metadata": {},
   "source": [
    "With some magic added:"
   ]
  },
  {
   "cell_type": "code",
   "execution_count": 5,
   "metadata": {},
   "outputs": [
    {
     "name": "stdout",
     "output_type": "stream",
     "text": [
      "Hello World\n",
      "Hello World\n",
      "Hello World\n"
     ]
    }
   ],
   "source": [
    "for elem in 'X' * 3:\n",
    "    print(\"Hello World\")"
   ]
  },
  {
   "cell_type": "markdown",
   "metadata": {},
   "source": [
    "All these options are performing the same operation and yielding the same result (printing \"Hello World\" 3 times), but using the much safer and convenient for loop instead of a while loop.\n",
    "\n",
    "This option also allows us to use the given \"number\" provided in the collection. For example, if we need to print \"Hello 1\", \"Hello 2\", \"Hello 3\", etc, we can create a list with natural numbers. Example:"
   ]
  },
  {
   "cell_type": "code",
   "execution_count": 6,
   "metadata": {},
   "outputs": [
    {
     "name": "stdout",
     "output_type": "stream",
     "text": [
      "Hello 1\n",
      "Hello 2\n",
      "Hello 3\n"
     ]
    }
   ],
   "source": [
    "l = [1, 2, 3]\n",
    "for number in l:\n",
    "    print(\"Hello {}\".format(number))"
   ]
  },
  {
   "cell_type": "markdown",
   "metadata": {},
   "source": [
    "### Enter `range()`\n",
    "\n",
    "The `range` python builtin function will simplify the process of creating these collections to iterate.\n",
    "\n",
    "The only purpose of this function, is to create sequences with numbers. Examples:\n",
    "\n",
    "```python\n",
    "range(5)        # [0, 1, 2, 3, 4]\n",
    "range(0, 5)     # [0, 1, 2, 3, 4]\n",
    "range(1, 5)     # [1, 2, 3, 4]\n",
    "range(2, 8)     # [2, 3, 4, 5, 6, 7]\n",
    "range(2, 11, 2) # [2, 4, 6, 8, 10]\n",
    "range(-5, -1)   # [-5, -4, -3, -2]\n",
    "```\n",
    "\n",
    "As you can see, it takes the usual parameters that we saw with slicing:\n",
    "\n",
    "* `start` (optional, default `0`)\n",
    "* `end`\n",
    "* `step` (optional, default `1`)\n",
    "\n",
    "So that means that we can use `range` to construct one of these lists for us to iterate. For example, to 3 times \"Hello World\", we can use `range(3)`. We don't care much about the contents, so we could even use `range(15, 18)`, although `range(3)` is a little bit more clear:"
   ]
  },
  {
   "cell_type": "code",
   "execution_count": 20,
   "metadata": {},
   "outputs": [
    {
     "name": "stdout",
     "output_type": "stream",
     "text": [
      "Hello World\n",
      "Hello World\n",
      "Hello World\n"
     ]
    }
   ],
   "source": [
    "for elem in range(3):\n",
    "    print(\"Hello World\")"
   ]
  },
  {
   "cell_type": "markdown",
   "metadata": {},
   "source": [
    "We don't care about the content, so we could name `elem` anything else, like `i` or `x`. If you don't need that variable, a usual convention is to call it `_`, which is a valid variable name:\n"
   ]
  },
  {
   "cell_type": "code",
   "execution_count": 21,
   "metadata": {},
   "outputs": [
    {
     "name": "stdout",
     "output_type": "stream",
     "text": [
      "RMOTR\n"
     ]
    }
   ],
   "source": [
    "_ = 'RMOTR'  # Valid variable name\n",
    "print(_)"
   ]
  },
  {
   "cell_type": "code",
   "execution_count": 22,
   "metadata": {},
   "outputs": [
    {
     "name": "stdout",
     "output_type": "stream",
     "text": [
      "Hello World\n",
      "Hello World\n",
      "Hello World\n"
     ]
    }
   ],
   "source": [
    "for _ in range(3):\n",
    "    print(\"Hello World\")"
   ]
  },
  {
   "cell_type": "markdown",
   "metadata": {},
   "source": [
    "In our example of printing `\"Hello 1\"`, `\"Hello 2\"`, `\"Hello 3\"`, etc, we **DO** need the variable name. So we won't name it `_` in that case:\n"
   ]
  },
  {
   "cell_type": "code",
   "execution_count": 24,
   "metadata": {},
   "outputs": [
    {
     "name": "stdout",
     "output_type": "stream",
     "text": [
      "Hello 1\n",
      "Hello 2\n",
      "Hello 3\n"
     ]
    }
   ],
   "source": [
    "for number in range(1, 4):  # I'm usinga different range now\n",
    "    print(\"Hello {}\".format(number))"
   ]
  },
  {
   "cell_type": "markdown",
   "metadata": {},
   "source": [
    "### Don't use `range` to manually access elements in a collection 😡\n",
    "\n",
    "We're serious. We often see code like this:"
   ]
  },
  {
   "cell_type": "code",
   "execution_count": 25,
   "metadata": {},
   "outputs": [
    {
     "name": "stdout",
     "output_type": "stream",
     "text": [
      "Jane\n",
      "Mary\n",
      "John\n"
     ]
    }
   ],
   "source": [
    "users = ['Jane', 'Mary', 'John']\n",
    "\n",
    "for i in range(len(users)):\n",
    "    user = users[i]\n",
    "    print(user)"
   ]
  },
  {
   "cell_type": "markdown",
   "metadata": {},
   "source": [
    "**THIS IS WRONG ☠️**\n",
    "\n",
    "It's difficult to read and **highly inefficient**; and that's the whole purpose of a for loop. The same code is as simple as:"
   ]
  },
  {
   "cell_type": "code",
   "execution_count": 26,
   "metadata": {},
   "outputs": [
    {
     "name": "stdout",
     "output_type": "stream",
     "text": [
      "Jane\n",
      "Mary\n",
      "John\n"
     ]
    }
   ],
   "source": [
    "users = ['Jane', 'Mary', 'John']\n",
    "\n",
    "for user in users:\n",
    "    print(user)"
   ]
  },
  {
   "cell_type": "markdown",
   "metadata": {},
   "source": [
    "So, as a rule of thumb. If you need to iterate over a collection `C` and you find yourself accessing individual elements by index from the collection `C` **inside** a for loop; you're probably doing something wrong. Just don't.\n",
    "\n",
    "![How about no](https://imgflip.com/s/meme/How-About-No-Bear.jpg)"
   ]
  },
  {
   "cell_type": "markdown",
   "metadata": {},
   "source": [
    "### Differences between Python 2 and Python 3\n",
    "\n",
    "A few lines above I told you that `range` returned a **list** containing numbers specified by `start`, `end`, `step`... well, kind of...\n",
    "\n",
    "In Python 3, `range` doesn't return \"an actual list\" anymore. It returns a **_\"generator\"_**. It's a more advanced concept, and **we'll learn about them during the course**. To see it in action, if you try running the following code in Python 3, you won't see an ACTUAL list, but something like `range(3, 10)`."
   ]
  },
  {
   "cell_type": "code",
   "execution_count": 27,
   "metadata": {},
   "outputs": [
    {
     "data": {
      "text/plain": [
       "range(3, 10)"
      ]
     },
     "execution_count": 27,
     "metadata": {},
     "output_type": "execute_result"
    }
   ],
   "source": [
    "range(3, 10)"
   ]
  },
  {
   "cell_type": "markdown",
   "metadata": {},
   "source": [
    "If you want a list, you need to \"force\" range be one by explicitly calling `list`:"
   ]
  },
  {
   "cell_type": "code",
   "execution_count": 28,
   "metadata": {},
   "outputs": [
    {
     "data": {
      "text/plain": [
       "[3, 4, 5, 6, 7, 8, 9]"
      ]
     },
     "execution_count": 28,
     "metadata": {},
     "output_type": "execute_result"
    }
   ],
   "source": [
    "list(range(3, 10))"
   ]
  },
  {
   "cell_type": "markdown",
   "metadata": {},
   "source": [
    "Finally, Python 2 has two \"range\" functions; one called [`range`](https://docs.python.org/2/library/functions.html#range) and other called [`xrange`](https://docs.python.org/2/library/functions.html#xrange). In Python 2, `range` will actually return a list, but `xrange` behaves like Python3's version, returning a generator. So be aware of that."
   ]
  },
  {
   "cell_type": "code",
   "execution_count": null,
   "metadata": {},
   "outputs": [],
   "source": []
  }
 ],
 "metadata": {
  "kernelspec": {
   "display_name": "Python 3",
   "language": "python",
   "name": "python3"
  },
  "language_info": {
   "codemirror_mode": {
    "name": "ipython",
    "version": 3
   },
   "file_extension": ".py",
   "mimetype": "text/x-python",
   "name": "python",
   "nbconvert_exporter": "python",
   "pygments_lexer": "ipython3",
   "version": "3.6.0"
  }
 },
 "nbformat": 4,
 "nbformat_minor": 2
}
