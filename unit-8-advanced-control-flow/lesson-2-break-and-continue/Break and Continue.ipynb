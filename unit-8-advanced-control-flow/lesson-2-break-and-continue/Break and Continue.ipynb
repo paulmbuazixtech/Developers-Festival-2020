{
 "cells": [
  {
   "cell_type": "markdown",
   "metadata": {},
   "source": [
    "# Break and Continue\n",
    "\n",
    "### Break"
   ]
  },
  {
   "cell_type": "code",
   "execution_count": null,
   "metadata": {},
   "outputs": [],
   "source": [
    "users = [1, 5, 91, 18, 92, 103]\n",
    "\n",
    "found_it = False\n",
    "for user in users:\n",
    "    print(user)\n",
    "    if user == 18:\n",
    "        found_it = True\n",
    "found_it"
   ]
  },
  {
   "cell_type": "code",
   "execution_count": null,
   "metadata": {},
   "outputs": [],
   "source": [
    "users = [1, 5, 91, 18, 92, 103]\n",
    "\n",
    "def user_exists(user_id):\n",
    "\n",
    "    for user in users:\n",
    "        print(user)\n",
    "        if user == user_id:\n",
    "            return True\n",
    "    #\n",
    "    return False\n",
    "\n",
    "user_exists('X')"
   ]
  },
  {
   "cell_type": "code",
   "execution_count": 19,
   "metadata": {},
   "outputs": [
    {
     "name": "stdout",
     "output_type": "stream",
     "text": [
      "Guess a number: 19\n",
      "Guess a number: 99\n",
      "Guessed correctly\n"
     ]
    }
   ],
   "source": [
    "answer = 99\n",
    "\n",
    "while True:\n",
    "    users_guess = input('Guess a number: ')\n",
    "    if int(users_guess) == 99:\n",
    "        break\n",
    "\n",
    "print(\"Guessed correctly\")"
   ]
  },
  {
   "cell_type": "markdown",
   "metadata": {},
   "source": [
    "### Continue"
   ]
  },
  {
   "cell_type": "code",
   "execution_count": 23,
   "metadata": {},
   "outputs": [
    {
     "name": "stdout",
     "output_type": "stream",
     "text": [
      "5\n",
      "10\n",
      "15\n",
      "20\n",
      "25\n",
      "30\n",
      "35\n",
      "40\n",
      "45\n",
      "50\n",
      "55\n",
      "60\n",
      "65\n",
      "70\n",
      "75\n",
      "80\n",
      "85\n",
      "90\n",
      "95\n",
      "100\n"
     ]
    }
   ],
   "source": [
    "for num in range(1, 101):\n",
    "    if num % 5 != 0:\n",
    "        continue\n",
    "\n",
    "    # here\n",
    "    print(num)\n",
    "    # something else\n",
    "    # aggregation\n",
    "    # send an email\n",
    "    # update status"
   ]
  },
  {
   "cell_type": "code",
   "execution_count": 25,
   "metadata": {},
   "outputs": [
    {
     "name": "stdout",
     "output_type": "stream",
     "text": [
      "Something\n",
      "A\n",
      "Else...\n",
      "\tB is skipped\n",
      "Something\n",
      "C\n",
      "Else...\n"
     ]
    }
   ],
   "source": [
    "for char in 'ABC':\n",
    "    if char == 'B':\n",
    "        print(\"\\tB is skipped\")\n",
    "        continue\n",
    "    print(\"Something\")\n",
    "    print(char)\n",
    "    print(\"Else...\")"
   ]
  }
 ],
 "metadata": {
  "kernelspec": {
   "display_name": "Python 3",
   "language": "python",
   "name": "python3"
  },
  "language_info": {
   "codemirror_mode": {
    "name": "ipython",
    "version": 3
   },
   "file_extension": ".py",
   "mimetype": "text/x-python",
   "name": "python",
   "nbconvert_exporter": "python",
   "pygments_lexer": "ipython3",
   "version": "3.6.0"
  }
 },
 "nbformat": 4,
 "nbformat_minor": 2
}
