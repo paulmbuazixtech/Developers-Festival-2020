{
 "cells": [
  {
   "cell_type": "markdown",
   "metadata": {},
   "source": [
    "### Iterating Dictionaries\n",
    "\n",
    "* By Key\n",
    "* By Value\n",
    "* By Key-Value pairs"
   ]
  },
  {
   "cell_type": "code",
   "execution_count": 1,
   "metadata": {},
   "outputs": [],
   "source": [
    "price = {\n",
    "    'last': 13803.35,\n",
    "    'open': 13287.26,\n",
    "    'high': 14095.06,\n",
    "    'low': 12878.60,\n",
    "    'volume': 16799.05\n",
    "}"
   ]
  },
  {
   "cell_type": "code",
   "execution_count": 11,
   "metadata": {},
   "outputs": [
    {
     "name": "stdout",
     "output_type": "stream",
     "text": [
      "Today's 'last' was: $13803.35\n",
      "Today's 'open' was: $13287.26\n",
      "Today's 'high' was: $14095.06\n",
      "Today's 'low' was: $12878.6\n",
      "Today's 'volume' was: $16799.05\n"
     ]
    }
   ],
   "source": [
    "for key, value in price.items():\n",
    "    print(\"Today's '{}' was: ${}\".format(key, value))"
   ]
  },
  {
   "cell_type": "code",
   "execution_count": 10,
   "metadata": {},
   "outputs": [
    {
     "data": {
      "text/plain": [
       "dict_items([('last', 13803.35), ('open', 13287.26), ('high', 14095.06), ('low', 12878.6), ('volume', 16799.05)])"
      ]
     },
     "execution_count": 10,
     "metadata": {},
     "output_type": "execute_result"
    }
   ],
   "source": [
    "price.items()"
   ]
  },
  {
   "cell_type": "code",
   "execution_count": 12,
   "metadata": {},
   "outputs": [],
   "source": [
    "t = ('a1', 'b1', 'c1')"
   ]
  },
  {
   "cell_type": "code",
   "execution_count": 16,
   "metadata": {},
   "outputs": [],
   "source": [
    "a, x, c = t"
   ]
  },
  {
   "cell_type": "code",
   "execution_count": 17,
   "metadata": {},
   "outputs": [
    {
     "data": {
      "text/plain": [
       "'b1'"
      ]
     },
     "execution_count": 17,
     "metadata": {},
     "output_type": "execute_result"
    }
   ],
   "source": [
    "x"
   ]
  },
  {
   "cell_type": "code",
   "execution_count": 18,
   "metadata": {},
   "outputs": [],
   "source": [
    "a_list = [\n",
    "    ('a1', 'b1', 'c1'),\n",
    "    ('a2', 'b2', 'c2'),\n",
    "    ('a3', 'b3', 'c3'),\n",
    "]"
   ]
  },
  {
   "cell_type": "code",
   "execution_count": 20,
   "metadata": {},
   "outputs": [
    {
     "name": "stdout",
     "output_type": "stream",
     "text": [
      "b1\n",
      "b2\n",
      "b3\n"
     ]
    }
   ],
   "source": [
    "for a, x, c in a_list:\n",
    "    print(x)"
   ]
  },
  {
   "cell_type": "code",
   "execution_count": 22,
   "metadata": {},
   "outputs": [
    {
     "data": {
      "text/plain": [
       "[('last', 13803.35),\n",
       " ('open', 13287.26),\n",
       " ('high', 14095.06),\n",
       " ('low', 12878.6),\n",
       " ('volume', 16799.05)]"
      ]
     },
     "execution_count": 22,
     "metadata": {},
     "output_type": "execute_result"
    }
   ],
   "source": [
    "list(price.items())"
   ]
  }
 ],
 "metadata": {
  "kernelspec": {
   "display_name": "Python 3",
   "language": "python",
   "name": "python3"
  },
  "language_info": {
   "codemirror_mode": {
    "name": "ipython",
    "version": 3
   },
   "file_extension": ".py",
   "mimetype": "text/x-python",
   "name": "python",
   "nbconvert_exporter": "python",
   "pygments_lexer": "ipython3",
   "version": "3.6.0"
  }
 },
 "nbformat": 4,
 "nbformat_minor": 2
}
