{
 "cells": [
  {
   "cell_type": "markdown",
   "metadata": {},
   "source": [
    "### Intro to Dictionaries\n",
    "\n",
    "Suppose we want to represent Bitcoin price information in Python using a List:"
   ]
  },
  {
   "cell_type": "code",
   "execution_count": 1,
   "metadata": {},
   "outputs": [
    {
     "name": "stdout",
     "output_type": "stream",
     "text": [
      "[13803.35, 13287.26, 14095.06, 12878.6, 16799.05]\n"
     ]
    }
   ],
   "source": [
    "price = [13803.35, 13287.26, 14095.06, 12878.6, 16799.05]\n",
    "print(price)"
   ]
  },
  {
   "cell_type": "markdown",
   "metadata": {},
   "source": [
    "Do you know what each one of those prices represent? Here's a hint:\n",
    "\n",
    "<img src=\"https://user-images.githubusercontent.com/872296/34895189-5033bff4-f7c3-11e7-9cd3-a4e14f3dc354.png\" width=\"600px\"/>\n",
    "\n",
    "Maybe if I express the list with the following format it makes a little bit more sense:"
   ]
  },
  {
   "cell_type": "code",
   "execution_count": 2,
   "metadata": {},
   "outputs": [],
   "source": [
    "price = [\n",
    "    13803.35,  # last\n",
    "    13287.26,  # open\n",
    "    14095.06,  # high\n",
    "    12878.60,  # low\n",
    "    16799.05   # volume\n",
    "]"
   ]
  },
  {
   "cell_type": "markdown",
   "metadata": {},
   "source": [
    "The biggest weakness of lists, is that they don't offer much information about the values they're storing. Which make examples like the previous one a little bit confusing. If you remember from our previous lectures, lists automatically assign numeric, auto incremental indexes to our elements:\n",
    "\n",
    "```python\n",
    "a_list = ['A', 'B', 'C', 'D', 'E']\n",
    "#          0    1    2    3    4   (Regular Indexes)\n",
    "# (-)      5    4    3    2    1   (Negative Indexes)\n",
    "```\n",
    "\n",
    "For example, there's no way of \"knowing\" what's the value contained in `a_list[2]`. By \"knowing\", I mean, conceptually understanding what's the meaning of that value. In our previous example, what does `$13287.26` mean? You know it's a price, but not much more.\n",
    "\n",
    "**Enter, dictionaries:**\n",
    "\n",
    "Dictionaries will allow us to set our own indexes, usually called **keys** for dictionaries, to pretty much whatever we want (there are limitations). Most commonly, we'll use Strings. The same Bitcoin price represented as a Dictionary looks like:"
   ]
  },
  {
   "cell_type": "code",
   "execution_count": 3,
   "metadata": {},
   "outputs": [],
   "source": [
    "price = {\n",
    "    'last': 13803.35,\n",
    "    'open': 13287.26,\n",
    "    'high': 14095.06,\n",
    "    'low': 12878.60,\n",
    "    'volume': 16799.05\n",
    "}"
   ]
  },
  {
   "cell_type": "markdown",
   "metadata": {},
   "source": [
    "As you can see, instead of using square brackets (`[]`) we're using curly braces (`{}`). You **must** provide a key (or index) for each one of the values that you want to store. Let's see another example:"
   ]
  },
  {
   "cell_type": "code",
   "execution_count": 4,
   "metadata": {},
   "outputs": [],
   "source": [
    "user = ('Stelle', 'Carson', 61)"
   ]
  },
  {
   "cell_type": "markdown",
   "metadata": {},
   "source": [
    "Take a second to think about the meaning of each one of those values...\n",
    "\n",
    "Now, same values as a dictionary:"
   ]
  },
  {
   "cell_type": "code",
   "execution_count": 5,
   "metadata": {},
   "outputs": [],
   "source": [
    "user = {\n",
    "    'last_name': 'Stelle',\n",
    "    'first_name': 'Carson',\n",
    "    'country_code': 61\n",
    "}"
   ]
  },
  {
   "cell_type": "markdown",
   "metadata": {},
   "source": [
    "Basically, dictionaries are collections to make our lives as developers easier. For example, suppose you're monitoring the logs of your app and you see the following error:"
   ]
  },
  {
   "cell_type": "code",
   "execution_count": 6,
   "metadata": {},
   "outputs": [
    {
     "ename": "ValueError",
     "evalue": "(\"Price is invalid, 'open' seems too high\", [13803.35, 13287.26, 14095.06, 12878.6, 16799.05])",
     "output_type": "error",
     "traceback": [
      "\u001b[0;31m---------------------------------------------------------------------------\u001b[0m",
      "\u001b[0;31mValueError\u001b[0m                                Traceback (most recent call last)",
      "\u001b[0;32m<ipython-input-6-48825328ece1>\u001b[0m in \u001b[0;36m<module>\u001b[0;34m()\u001b[0m\n\u001b[1;32m      1\u001b[0m \u001b[0mprice\u001b[0m \u001b[0;34m=\u001b[0m \u001b[0;34m[\u001b[0m\u001b[0;36m13803.35\u001b[0m\u001b[0;34m,\u001b[0m \u001b[0;36m13287.26\u001b[0m\u001b[0;34m,\u001b[0m \u001b[0;36m14095.06\u001b[0m\u001b[0;34m,\u001b[0m \u001b[0;36m12878.6\u001b[0m\u001b[0;34m,\u001b[0m \u001b[0;36m16799.05\u001b[0m\u001b[0;34m]\u001b[0m\u001b[0;34m\u001b[0m\u001b[0m\n\u001b[0;32m----> 2\u001b[0;31m \u001b[0;32mraise\u001b[0m \u001b[0mValueError\u001b[0m\u001b[0;34m(\u001b[0m\u001b[0;34m\"Price is invalid, 'open' seems too high\"\u001b[0m\u001b[0;34m,\u001b[0m \u001b[0mprice\u001b[0m\u001b[0;34m)\u001b[0m\u001b[0;34m\u001b[0m\u001b[0m\n\u001b[0m",
      "\u001b[0;31mValueError\u001b[0m: (\"Price is invalid, 'open' seems too high\", [13803.35, 13287.26, 14095.06, 12878.6, 16799.05])"
     ]
    }
   ],
   "source": [
    "price = [13803.35, 13287.26, 14095.06, 12878.6, 16799.05]\n",
    "raise ValueError(\"Price is invalid, 'open' seems too high\", price)"
   ]
  },
  {
   "cell_type": "markdown",
   "metadata": {},
   "source": [
    "You don't what's going on in there! Dictionaries will make our lives easier."
   ]
  },
  {
   "cell_type": "markdown",
   "metadata": {},
   "source": [
    "### Reading elements from dictionaries\n",
    "\n",
    "Sorry if I'm repetitive, but let's go back once again to our lists. Given the following list:"
   ]
  },
  {
   "cell_type": "code",
   "execution_count": 7,
   "metadata": {},
   "outputs": [],
   "source": [
    "user_list = ('Stelle', 'Carson', 61)\n",
    "#              0          1      2   (Regular Indexes)\n",
    "# (-)          3          2      1   (Negative Indexes)"
   ]
  },
  {
   "cell_type": "markdown",
   "metadata": {},
   "source": [
    "We can read the user's last name with the indexes **_that the list has assigned to each value_**:"
   ]
  },
  {
   "cell_type": "code",
   "execution_count": 8,
   "metadata": {},
   "outputs": [
    {
     "data": {
      "text/plain": [
       "'Stelle'"
      ]
     },
     "execution_count": 8,
     "metadata": {},
     "output_type": "execute_result"
    }
   ],
   "source": [
    "user_list[0]"
   ]
  },
  {
   "cell_type": "markdown",
   "metadata": {},
   "source": [
    "Again, the list has assigned those indexes for us, it's the only way we have to access those elements.\n",
    "\n",
    "Now, if we use a dict:"
   ]
  },
  {
   "cell_type": "code",
   "execution_count": 9,
   "metadata": {},
   "outputs": [],
   "source": [
    "user_dict = {\n",
    "    'last_name': 'Stelle',\n",
    "    'first_name': 'Carson',\n",
    "    'country_code': 61\n",
    "}"
   ]
  },
  {
   "cell_type": "markdown",
   "metadata": {},
   "source": [
    "We access the user's last name, pretty much in the same way as before: using the variable name `user_dict`, square brackets `[]` and the key name (or index). But in this case, we chose that key:"
   ]
  },
  {
   "cell_type": "code",
   "execution_count": 10,
   "metadata": {},
   "outputs": [
    {
     "data": {
      "text/plain": [
       "'Stelle'"
      ]
     },
     "execution_count": 10,
     "metadata": {},
     "output_type": "execute_result"
    }
   ],
   "source": [
    "user_dict['last_name']"
   ]
  },
  {
   "cell_type": "markdown",
   "metadata": {},
   "source": [
    "It's the same process, using square brackets and the key to reference the element."
   ]
  }
 ],
 "metadata": {
  "kernelspec": {
   "display_name": "Python 3",
   "language": "python",
   "name": "python3"
  },
  "language_info": {
   "codemirror_mode": {
    "name": "ipython",
    "version": 3
   },
   "file_extension": ".py",
   "mimetype": "text/x-python",
   "name": "python",
   "nbconvert_exporter": "python",
   "pygments_lexer": "ipython3",
   "version": "3.6.0"
  }
 },
 "nbformat": 4,
 "nbformat_minor": 2
}
