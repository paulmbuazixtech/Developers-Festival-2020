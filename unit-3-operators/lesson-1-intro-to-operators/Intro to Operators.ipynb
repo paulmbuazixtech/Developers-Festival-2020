{
 "cells": [
  {
   "cell_type": "markdown",
   "metadata": {},
   "source": [
    "# Intro to Operators\n",
    "\n",
    "We could say that an operator is like a function, packaged in a single (or a few) character(s). Exaple, this is the \"addition\" operator (an example of an _arithmetic operator_):"
   ]
  },
  {
   "cell_type": "code",
   "execution_count": 1,
   "metadata": {},
   "outputs": [
    {
     "data": {
      "text/plain": [
       "5"
      ]
     },
     "execution_count": 1,
     "metadata": {},
     "output_type": "execute_result"
    }
   ],
   "source": [
    "2 + 3"
   ]
  },
  {
   "cell_type": "markdown",
   "metadata": {},
   "source": [
    "An operator could be written like a function; let's imagine for a second that python doesn't have operators. All these operations should be done with functions instead. For our previous example we'd have something like:\n",
    "\n",
    "```python\n",
    "add(2, 3)\n",
    ">>> 5\n",
    "```\n",
    "\n",
    "This, obviously doesn't work because the `add` function doesn't exist. But you can see how an operator closely resembles a function. They have the same purpose."
   ]
  },
  {
   "cell_type": "markdown",
   "metadata": {},
   "source": [
    "## Operator arity\n",
    "\n",
    "Operators **will require** a given number of \"operands\" to be able to work (_\"operate\"_). For example, the `+` operator requires two elements. This \"number of required objects\" will determine the arity of the operator.\n",
    "For example, as previously seen, the `+` operator is a **binary** (arity = 2) operator:"
   ]
  },
  {
   "cell_type": "code",
   "execution_count": 3,
   "metadata": {},
   "outputs": [
    {
     "name": "stdout",
     "output_type": "stream",
     "text": [
      "5\n",
      "10\n",
      "6\n"
     ]
    }
   ],
   "source": [
    "# Binary operators\n",
    "print(2 + 3)\n",
    "print(5 + 5)\n",
    "print(2 * 3)"
   ]
  },
  {
   "cell_type": "markdown",
   "metadata": {},
   "source": [
    "Some operators will also be **unary** (un-ary, arity = 1). For example, the `-` operator:"
   ]
  },
  {
   "cell_type": "code",
   "execution_count": 4,
   "metadata": {},
   "outputs": [
    {
     "data": {
      "text/plain": [
       "-3"
      ]
     },
     "execution_count": 4,
     "metadata": {},
     "output_type": "execute_result"
    }
   ],
   "source": [
    "x = 3\n",
    "-x"
   ]
  },
  {
   "cell_type": "markdown",
   "metadata": {},
   "source": [
    "In that case, `-` is applied to only one operand (`x`). But it can also be used as a binary operator:"
   ]
  },
  {
   "cell_type": "code",
   "execution_count": 5,
   "metadata": {},
   "outputs": [
    {
     "name": "stdout",
     "output_type": "stream",
     "text": [
      "3\n",
      "2\n",
      "-7\n"
     ]
    }
   ],
   "source": [
    "print(5 - 2)\n",
    "print(10 - 8)\n",
    "print(2 - 9)"
   ]
  },
  {
   "cell_type": "markdown",
   "metadata": {},
   "source": [
    "We'll divide operators in 5 different catergories:\n",
    "\n",
    "* **Arithmetic Operators**\n",
    "* **Comparison Operators**\n",
    "* **Assignment Operators**\n",
    "* **Other Boolean Operators**\n",
    "* **Logical Operators**\n",
    "\n",
    "These categories are arbirary, it's the way to divide them that results in the best experience. You're free to \"rearrange\" them in your mind as you see fit.\n",
    "\n",
    "There's one lesson per each operator category, along with a few assignments to practice them."
   ]
  },
  {
   "cell_type": "code",
   "execution_count": null,
   "metadata": {},
   "outputs": [],
   "source": []
  }
 ],
 "metadata": {
  "kernelspec": {
   "display_name": "Python 3",
   "language": "python",
   "name": "python3"
  },
  "language_info": {
   "codemirror_mode": {
    "name": "ipython",
    "version": 3
   },
   "file_extension": ".py",
   "mimetype": "text/x-python",
   "name": "python",
   "nbconvert_exporter": "python",
   "pygments_lexer": "ipython3",
   "version": "3.6.0"
  }
 },
 "nbformat": 4,
 "nbformat_minor": 2
}
