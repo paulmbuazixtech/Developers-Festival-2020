{
 "cells": [
  {
   "cell_type": "markdown",
   "metadata": {},
   "source": [
    "# Logical Operators\n",
    "\n",
    "These operators are used to \"concatenate\" other operations. These should read naturally in english. Let's see a few examples."
   ]
  },
  {
   "cell_type": "markdown",
   "metadata": {},
   "source": [
    "### `and`  operator\n",
    "\n",
    "All the operations should be true to final result to be true:"
   ]
  },
  {
   "cell_type": "code",
   "execution_count": 1,
   "metadata": {},
   "outputs": [
    {
     "name": "stdout",
     "output_type": "stream",
     "text": [
      "You can order\n"
     ]
    }
   ],
   "source": [
    "user_is_active = True\n",
    "age = 21\n",
    "\n",
    "if user_is_active is True and age > 18:\n",
    "    print(\"You can order\")\n",
    "else:\n",
    "    print(\"You're not allowed here\")"
   ]
  },
  {
   "cell_type": "markdown",
   "metadata": {},
   "source": [
    "### `or` operator\n",
    "\n",
    "At least one of the operators must be true for the result to be true."
   ]
  },
  {
   "cell_type": "code",
   "execution_count": 2,
   "metadata": {},
   "outputs": [
    {
     "name": "stdout",
     "output_type": "stream",
     "text": [
      "I like this food!\n"
     ]
    }
   ],
   "source": [
    "food = \"hamburger\"\n",
    "\n",
    "if food == \"hamburger\" or food == \"spaghetti\":\n",
    "    print(\"I like this food!\")\n",
    "else:\n",
    "    print(\"Hmm... We'll see...\")"
   ]
  },
  {
   "cell_type": "code",
   "execution_count": null,
   "metadata": {},
   "outputs": [],
   "source": []
  }
 ],
 "metadata": {
  "kernelspec": {
   "display_name": "Python 3",
   "language": "python",
   "name": "python3"
  },
  "language_info": {
   "codemirror_mode": {
    "name": "ipython",
    "version": 3
   },
   "file_extension": ".py",
   "mimetype": "text/x-python",
   "name": "python",
   "nbconvert_exporter": "python",
   "pygments_lexer": "ipython3",
   "version": "3.6.0"
  }
 },
 "nbformat": 4,
 "nbformat_minor": 2
}
