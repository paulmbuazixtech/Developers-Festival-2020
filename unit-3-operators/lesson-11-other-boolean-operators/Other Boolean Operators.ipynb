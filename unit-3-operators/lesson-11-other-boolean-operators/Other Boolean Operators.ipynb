{
 "cells": [
  {
   "cell_type": "markdown",
   "metadata": {},
   "source": [
    "# Other Boolean Operators\n",
    "\n",
    "In this category we'll place a few other operators that are incredibly useful for boolean operations and comparisons."
   ]
  },
  {
   "cell_type": "markdown",
   "metadata": {},
   "source": [
    "### Membership Operator (`in`)\n",
    "\n",
    "Check if a given \"object\" is part of another \"object\". Examples:"
   ]
  },
  {
   "cell_type": "code",
   "execution_count": 1,
   "metadata": {},
   "outputs": [
    {
     "name": "stdout",
     "output_type": "stream",
     "text": [
      "True\n",
      "True\n",
      "False\n"
     ]
    }
   ],
   "source": [
    "print('e' in \"Hello World\")\n",
    "print('l' in \"Hello World\")\n",
    "print('x' in \"Hello World\")"
   ]
  },
  {
   "cell_type": "markdown",
   "metadata": {},
   "source": [
    "### Is Operator - Warning!\n",
    "\n",
    "This operator is incredibly useful and provides a nice english-like syntax when used to compare objects. But you **should be careful** when using it. As a general rule, use it **only** with booleans (`True`, `False`) or `None`. Examples:"
   ]
  },
  {
   "cell_type": "code",
   "execution_count": 2,
   "metadata": {},
   "outputs": [
    {
     "name": "stdout",
     "output_type": "stream",
     "text": [
      "True\n",
      "True\n",
      "True\n"
     ]
    }
   ],
   "source": [
    "x = None\n",
    "print(x is None)\n",
    "\n",
    "active = True\n",
    "print(active is True)\n",
    "\n",
    "closed = False\n",
    "print(closed is False)"
   ]
  },
  {
   "cell_type": "markdown",
   "metadata": {},
   "source": [
    "We could have used the equals (`==`) operator for the previous examples, but `is` just reads better. What do you think? Which one looks better?\n",
    "\n",
    "```python\n",
    "if active == True:\n",
    "    pass\n",
    "\n",
    "if active is True:\n",
    "    pass\n",
    "```\n",
    "\n",
    "I personally think that _\"active **is** True**_ reads better (pretty much like english). Although, to be more concise, in that case we could just have used, **which provides the same outcome**:\n",
    "\n",
    "```python\n",
    "if active:\n",
    "    pass\n",
    "```"
   ]
  },
  {
   "cell_type": "markdown",
   "metadata": {},
   "source": [
    "### Negation operator (`not`)\n",
    "\n",
    "This operator will just flip the current boolean value passed. Examples:"
   ]
  },
  {
   "cell_type": "code",
   "execution_count": 4,
   "metadata": {},
   "outputs": [
    {
     "name": "stdout",
     "output_type": "stream",
     "text": [
      "False\n"
     ]
    }
   ],
   "source": [
    "print(not True)"
   ]
  },
  {
   "cell_type": "code",
   "execution_count": 5,
   "metadata": {},
   "outputs": [
    {
     "name": "stdout",
     "output_type": "stream",
     "text": [
      "True\n"
     ]
    }
   ],
   "source": [
    "print(not False)"
   ]
  },
  {
   "cell_type": "markdown",
   "metadata": {},
   "source": [
    "As you can see, the values are just inverted. This is related to [Boolean Algebra](https://en.wikipedia.org/wiki/Boolean_algebra) if you're interested in learning about the details. We prefer to take a more \"pragmatic\" approach. Something more intuitive.\n",
    "\n",
    "For example, we have a variable `user_is_active` that basically contains `True` if the current user is active, and `False` if she hasn't activated her account yet. In your app, you'd like to do something like:"
   ]
  },
  {
   "cell_type": "code",
   "execution_count": 7,
   "metadata": {},
   "outputs": [
    {
     "name": "stdout",
     "output_type": "stream",
     "text": [
      "You can't perform this task until your account isn't activated\n"
     ]
    }
   ],
   "source": [
    "user_is_active = False  # Let's simulate an inactive user\n",
    "\n",
    "if not user_is_active:\n",
    "    print(\"You can't perform this task until your account isn't activated\")\n",
    "else:\n",
    "    print(\"All good. Processing your request...\")"
   ]
  },
  {
   "cell_type": "markdown",
   "metadata": {},
   "source": [
    "In this case, the `not user_is_active` is just answering the \"question\" we're asking intuitively. In english, we'd express it as: _**If the user is not active**_, which in code translated to `if not user_is_active`. Pretty accurate, right?"
   ]
  },
  {
   "cell_type": "markdown",
   "metadata": {},
   "source": [
    "The not operator will also work with other objects, not just Booleans. For example:"
   ]
  },
  {
   "cell_type": "code",
   "execution_count": 8,
   "metadata": {},
   "outputs": [
    {
     "name": "stdout",
     "output_type": "stream",
     "text": [
      "You're out of credits\n"
     ]
    }
   ],
   "source": [
    "remaining_credits = 0 # Let's simulate the user ran out of credits to use our app\n",
    "\n",
    "if not remaining_credits:\n",
    "    print(\"You're out of credits\")\n",
    "else:\n",
    "    print(\"Delivering your order\")"
   ]
  },
  {
   "cell_type": "code",
   "execution_count": null,
   "metadata": {},
   "outputs": [],
   "source": []
  }
 ],
 "metadata": {
  "kernelspec": {
   "display_name": "Python 3",
   "language": "python",
   "name": "python3"
  },
  "language_info": {
   "codemirror_mode": {
    "name": "ipython",
    "version": 3
   },
   "file_extension": ".py",
   "mimetype": "text/x-python",
   "name": "python",
   "nbconvert_exporter": "python",
   "pygments_lexer": "ipython3",
   "version": "3.6.0"
  }
 },
 "nbformat": 4,
 "nbformat_minor": 2
}
